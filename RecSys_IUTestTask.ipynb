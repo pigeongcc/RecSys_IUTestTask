{
  "nbformat": 4,
  "nbformat_minor": 0,
  "metadata": {
    "colab": {
      "name": "RecSys_IUTestTask.ipynb",
      "provenance": [],
      "toc_visible": true,
      "authorship_tag": "ABX9TyNqH8IjE4QwZKMXm/OcGxdu",
      "include_colab_link": true
    },
    "kernelspec": {
      "name": "python3",
      "display_name": "Python 3"
    },
    "language_info": {
      "name": "python"
    }
  },
  "cells": [
    {
      "cell_type": "markdown",
      "metadata": {
        "id": "view-in-github",
        "colab_type": "text"
      },
      "source": [
        "<a href=\"https://colab.research.google.com/github/pigeongcc/RecSys_IUTestTask/blob/main/RecSys_IUTestTask.ipynb\" target=\"_parent\"><img src=\"https://colab.research.google.com/assets/colab-badge.svg\" alt=\"Open In Colab\"/></a>"
      ]
    },
    {
      "cell_type": "markdown",
      "source": [
        "# Prerequisites"
      ],
      "metadata": {
        "id": "KXN2yeen-OmK"
      }
    },
    {
      "cell_type": "markdown",
      "source": [
        "Please, download **my versions** of the dataset files from the following Goggle Drive link:\n",
        "\n",
        "https://drive.google.com/drive/folders/1XtAvPAPzd3UQn9c_Ek8gZNmlM_Vf_sdw?usp=sharing"
      ],
      "metadata": {
        "id": "8DuOG20a-Stf"
      }
    },
    {
      "cell_type": "markdown",
      "source": [
        "# Data Analysis & Preprocessing\n",
        "\n",
        "Firstly, let's take a look at the data."
      ],
      "metadata": {
        "id": "bHnXOtIv3DA_"
      }
    },
    {
      "cell_type": "code",
      "execution_count": null,
      "metadata": {
        "id": "TZ6BQ6sS2v9l"
      },
      "outputs": [],
      "source": [
        "import pandas as pd\n",
        "import numpy as np\n",
        "from matplotlib import pyplot as plt\n",
        "import chardet"
      ]
    },
    {
      "cell_type": "code",
      "source": [
        "users_path = './users.csv'\n",
        "with open(users_path, 'rb') as rawdata:\n",
        "    result = chardet.detect(rawdata.read(100000))\n",
        "users_encoding = result['encoding']\n",
        "print('Encoding for ' + users_path + ': ' + users_encoding)\n",
        "\n",
        "games_path = './games.csv'\n",
        "with open(games_path, 'rb') as rawdata:\n",
        "    result = chardet.detect(rawdata.read(100000))\n",
        "games_encoding = result['encoding']\n",
        "print('Encoding for ' + games_path + ': ' + games_encoding)"
      ],
      "metadata": {
        "colab": {
          "base_uri": "https://localhost:8080/"
        },
        "id": "qiXpoMEZ4Vj2",
        "outputId": "d62ccf48-88de-414d-ff6e-048d1f51720b"
      },
      "execution_count": null,
      "outputs": [
        {
          "output_type": "stream",
          "name": "stdout",
          "text": [
            "Encoding for ./users.csv: ascii\n",
            "Encoding for ./games.csv: utf-8\n"
          ]
        }
      ]
    },
    {
      "cell_type": "markdown",
      "source": [
        "### Opening *users.csv*"
      ],
      "metadata": {
        "id": "16Ks3Ixi7IAA"
      }
    },
    {
      "cell_type": "code",
      "source": [
        "users = pd.read_csv(users_path, encoding=users_encoding)\n",
        "users.columns = ['user_id', 'game_id', 'rating']\n",
        "users.head()"
      ],
      "metadata": {
        "colab": {
          "base_uri": "https://localhost:8080/",
          "height": 206
        },
        "id": "bsgh2nb33PFv",
        "outputId": "862b05c7-d506-4d82-8aca-cf6007597e21"
      },
      "execution_count": null,
      "outputs": [
        {
          "output_type": "execute_result",
          "data": {
            "text/plain": [
              "   user_id  game_id rating\n",
              "0        1      147   1.9;\n",
              "1        1      198   5.0;\n",
              "2        1      137   9.0;\n",
              "3        1      197   5.1;\n",
              "4        2        9   7.4;"
            ],
            "text/html": [
              "\n",
              "  <div id=\"df-2b42ce22-ea45-4c74-85ff-9f9acbfd5d09\">\n",
              "    <div class=\"colab-df-container\">\n",
              "      <div>\n",
              "<style scoped>\n",
              "    .dataframe tbody tr th:only-of-type {\n",
              "        vertical-align: middle;\n",
              "    }\n",
              "\n",
              "    .dataframe tbody tr th {\n",
              "        vertical-align: top;\n",
              "    }\n",
              "\n",
              "    .dataframe thead th {\n",
              "        text-align: right;\n",
              "    }\n",
              "</style>\n",
              "<table border=\"1\" class=\"dataframe\">\n",
              "  <thead>\n",
              "    <tr style=\"text-align: right;\">\n",
              "      <th></th>\n",
              "      <th>user_id</th>\n",
              "      <th>game_id</th>\n",
              "      <th>rating</th>\n",
              "    </tr>\n",
              "  </thead>\n",
              "  <tbody>\n",
              "    <tr>\n",
              "      <th>0</th>\n",
              "      <td>1</td>\n",
              "      <td>147</td>\n",
              "      <td>1.9;</td>\n",
              "    </tr>\n",
              "    <tr>\n",
              "      <th>1</th>\n",
              "      <td>1</td>\n",
              "      <td>198</td>\n",
              "      <td>5.0;</td>\n",
              "    </tr>\n",
              "    <tr>\n",
              "      <th>2</th>\n",
              "      <td>1</td>\n",
              "      <td>137</td>\n",
              "      <td>9.0;</td>\n",
              "    </tr>\n",
              "    <tr>\n",
              "      <th>3</th>\n",
              "      <td>1</td>\n",
              "      <td>197</td>\n",
              "      <td>5.1;</td>\n",
              "    </tr>\n",
              "    <tr>\n",
              "      <th>4</th>\n",
              "      <td>2</td>\n",
              "      <td>9</td>\n",
              "      <td>7.4;</td>\n",
              "    </tr>\n",
              "  </tbody>\n",
              "</table>\n",
              "</div>\n",
              "      <button class=\"colab-df-convert\" onclick=\"convertToInteractive('df-2b42ce22-ea45-4c74-85ff-9f9acbfd5d09')\"\n",
              "              title=\"Convert this dataframe to an interactive table.\"\n",
              "              style=\"display:none;\">\n",
              "        \n",
              "  <svg xmlns=\"http://www.w3.org/2000/svg\" height=\"24px\"viewBox=\"0 0 24 24\"\n",
              "       width=\"24px\">\n",
              "    <path d=\"M0 0h24v24H0V0z\" fill=\"none\"/>\n",
              "    <path d=\"M18.56 5.44l.94 2.06.94-2.06 2.06-.94-2.06-.94-.94-2.06-.94 2.06-2.06.94zm-11 1L8.5 8.5l.94-2.06 2.06-.94-2.06-.94L8.5 2.5l-.94 2.06-2.06.94zm10 10l.94 2.06.94-2.06 2.06-.94-2.06-.94-.94-2.06-.94 2.06-2.06.94z\"/><path d=\"M17.41 7.96l-1.37-1.37c-.4-.4-.92-.59-1.43-.59-.52 0-1.04.2-1.43.59L10.3 9.45l-7.72 7.72c-.78.78-.78 2.05 0 2.83L4 21.41c.39.39.9.59 1.41.59.51 0 1.02-.2 1.41-.59l7.78-7.78 2.81-2.81c.8-.78.8-2.07 0-2.86zM5.41 20L4 18.59l7.72-7.72 1.47 1.35L5.41 20z\"/>\n",
              "  </svg>\n",
              "      </button>\n",
              "      \n",
              "  <style>\n",
              "    .colab-df-container {\n",
              "      display:flex;\n",
              "      flex-wrap:wrap;\n",
              "      gap: 12px;\n",
              "    }\n",
              "\n",
              "    .colab-df-convert {\n",
              "      background-color: #E8F0FE;\n",
              "      border: none;\n",
              "      border-radius: 50%;\n",
              "      cursor: pointer;\n",
              "      display: none;\n",
              "      fill: #1967D2;\n",
              "      height: 32px;\n",
              "      padding: 0 0 0 0;\n",
              "      width: 32px;\n",
              "    }\n",
              "\n",
              "    .colab-df-convert:hover {\n",
              "      background-color: #E2EBFA;\n",
              "      box-shadow: 0px 1px 2px rgba(60, 64, 67, 0.3), 0px 1px 3px 1px rgba(60, 64, 67, 0.15);\n",
              "      fill: #174EA6;\n",
              "    }\n",
              "\n",
              "    [theme=dark] .colab-df-convert {\n",
              "      background-color: #3B4455;\n",
              "      fill: #D2E3FC;\n",
              "    }\n",
              "\n",
              "    [theme=dark] .colab-df-convert:hover {\n",
              "      background-color: #434B5C;\n",
              "      box-shadow: 0px 1px 3px 1px rgba(0, 0, 0, 0.15);\n",
              "      filter: drop-shadow(0px 1px 2px rgba(0, 0, 0, 0.3));\n",
              "      fill: #FFFFFF;\n",
              "    }\n",
              "  </style>\n",
              "\n",
              "      <script>\n",
              "        const buttonEl =\n",
              "          document.querySelector('#df-2b42ce22-ea45-4c74-85ff-9f9acbfd5d09 button.colab-df-convert');\n",
              "        buttonEl.style.display =\n",
              "          google.colab.kernel.accessAllowed ? 'block' : 'none';\n",
              "\n",
              "        async function convertToInteractive(key) {\n",
              "          const element = document.querySelector('#df-2b42ce22-ea45-4c74-85ff-9f9acbfd5d09');\n",
              "          const dataTable =\n",
              "            await google.colab.kernel.invokeFunction('convertToInteractive',\n",
              "                                                     [key], {});\n",
              "          if (!dataTable) return;\n",
              "\n",
              "          const docLinkHtml = 'Like what you see? Visit the ' +\n",
              "            '<a target=\"_blank\" href=https://colab.research.google.com/notebooks/data_table.ipynb>data table notebook</a>'\n",
              "            + ' to learn more about interactive tables.';\n",
              "          element.innerHTML = '';\n",
              "          dataTable['output_type'] = 'display_data';\n",
              "          await google.colab.output.renderOutput(dataTable, element);\n",
              "          const docLink = document.createElement('div');\n",
              "          docLink.innerHTML = docLinkHtml;\n",
              "          element.appendChild(docLink);\n",
              "        }\n",
              "      </script>\n",
              "    </div>\n",
              "  </div>\n",
              "  "
            ]
          },
          "metadata": {},
          "execution_count": 109
        }
      ]
    },
    {
      "cell_type": "code",
      "source": [
        "users.dtypes    # rating should be of type float"
      ],
      "metadata": {
        "colab": {
          "base_uri": "https://localhost:8080/"
        },
        "id": "ZjrESUNb5Uqc",
        "outputId": "b5e9e59f-5609-40da-f146-7d53f6744cfa"
      },
      "execution_count": null,
      "outputs": [
        {
          "output_type": "execute_result",
          "data": {
            "text/plain": [
              "user_id     int64\n",
              "game_id     int64\n",
              "rating     object\n",
              "dtype: object"
            ]
          },
          "metadata": {},
          "execution_count": 110
        }
      ]
    },
    {
      "cell_type": "markdown",
      "source": [
        "Let's break down the columns of *users.csv* by types:"
      ],
      "metadata": {
        "id": "X_c9UtUUBmYz"
      }
    },
    {
      "cell_type": "code",
      "source": [
        "users_num_cols = [\n",
        "    'user_id',\n",
        "    'game_id'\n",
        "]\n",
        "\n",
        "target_col = 'rating'\n",
        "\n",
        "#users_cols = users_num_cols + [target_col]"
      ],
      "metadata": {
        "id": "kvkUjYBXBAw-"
      },
      "execution_count": null,
      "outputs": []
    },
    {
      "cell_type": "code",
      "source": [
        "# Remove the ';' symbol from rating, and cast rating column to int64\n",
        "users['rating'] = users['rating'].str.replace(';', '').str.rstrip('.')\n",
        "users.rating = pd.to_numeric(users.rating)\n",
        "users.head()"
      ],
      "metadata": {
        "colab": {
          "base_uri": "https://localhost:8080/",
          "height": 206
        },
        "id": "AK-PKXvs4ImL",
        "outputId": "3bcaf896-e644-4bcc-adb0-80f4811dcf2a"
      },
      "execution_count": null,
      "outputs": [
        {
          "output_type": "execute_result",
          "data": {
            "text/plain": [
              "   user_id  game_id  rating\n",
              "0        1      147     1.9\n",
              "1        1      198     5.0\n",
              "2        1      137     9.0\n",
              "3        1      197     5.1\n",
              "4        2        9     7.4"
            ],
            "text/html": [
              "\n",
              "  <div id=\"df-a85dd7cd-67f3-4e46-a4ba-49f1bf15a192\">\n",
              "    <div class=\"colab-df-container\">\n",
              "      <div>\n",
              "<style scoped>\n",
              "    .dataframe tbody tr th:only-of-type {\n",
              "        vertical-align: middle;\n",
              "    }\n",
              "\n",
              "    .dataframe tbody tr th {\n",
              "        vertical-align: top;\n",
              "    }\n",
              "\n",
              "    .dataframe thead th {\n",
              "        text-align: right;\n",
              "    }\n",
              "</style>\n",
              "<table border=\"1\" class=\"dataframe\">\n",
              "  <thead>\n",
              "    <tr style=\"text-align: right;\">\n",
              "      <th></th>\n",
              "      <th>user_id</th>\n",
              "      <th>game_id</th>\n",
              "      <th>rating</th>\n",
              "    </tr>\n",
              "  </thead>\n",
              "  <tbody>\n",
              "    <tr>\n",
              "      <th>0</th>\n",
              "      <td>1</td>\n",
              "      <td>147</td>\n",
              "      <td>1.9</td>\n",
              "    </tr>\n",
              "    <tr>\n",
              "      <th>1</th>\n",
              "      <td>1</td>\n",
              "      <td>198</td>\n",
              "      <td>5.0</td>\n",
              "    </tr>\n",
              "    <tr>\n",
              "      <th>2</th>\n",
              "      <td>1</td>\n",
              "      <td>137</td>\n",
              "      <td>9.0</td>\n",
              "    </tr>\n",
              "    <tr>\n",
              "      <th>3</th>\n",
              "      <td>1</td>\n",
              "      <td>197</td>\n",
              "      <td>5.1</td>\n",
              "    </tr>\n",
              "    <tr>\n",
              "      <th>4</th>\n",
              "      <td>2</td>\n",
              "      <td>9</td>\n",
              "      <td>7.4</td>\n",
              "    </tr>\n",
              "  </tbody>\n",
              "</table>\n",
              "</div>\n",
              "      <button class=\"colab-df-convert\" onclick=\"convertToInteractive('df-a85dd7cd-67f3-4e46-a4ba-49f1bf15a192')\"\n",
              "              title=\"Convert this dataframe to an interactive table.\"\n",
              "              style=\"display:none;\">\n",
              "        \n",
              "  <svg xmlns=\"http://www.w3.org/2000/svg\" height=\"24px\"viewBox=\"0 0 24 24\"\n",
              "       width=\"24px\">\n",
              "    <path d=\"M0 0h24v24H0V0z\" fill=\"none\"/>\n",
              "    <path d=\"M18.56 5.44l.94 2.06.94-2.06 2.06-.94-2.06-.94-.94-2.06-.94 2.06-2.06.94zm-11 1L8.5 8.5l.94-2.06 2.06-.94-2.06-.94L8.5 2.5l-.94 2.06-2.06.94zm10 10l.94 2.06.94-2.06 2.06-.94-2.06-.94-.94-2.06-.94 2.06-2.06.94z\"/><path d=\"M17.41 7.96l-1.37-1.37c-.4-.4-.92-.59-1.43-.59-.52 0-1.04.2-1.43.59L10.3 9.45l-7.72 7.72c-.78.78-.78 2.05 0 2.83L4 21.41c.39.39.9.59 1.41.59.51 0 1.02-.2 1.41-.59l7.78-7.78 2.81-2.81c.8-.78.8-2.07 0-2.86zM5.41 20L4 18.59l7.72-7.72 1.47 1.35L5.41 20z\"/>\n",
              "  </svg>\n",
              "      </button>\n",
              "      \n",
              "  <style>\n",
              "    .colab-df-container {\n",
              "      display:flex;\n",
              "      flex-wrap:wrap;\n",
              "      gap: 12px;\n",
              "    }\n",
              "\n",
              "    .colab-df-convert {\n",
              "      background-color: #E8F0FE;\n",
              "      border: none;\n",
              "      border-radius: 50%;\n",
              "      cursor: pointer;\n",
              "      display: none;\n",
              "      fill: #1967D2;\n",
              "      height: 32px;\n",
              "      padding: 0 0 0 0;\n",
              "      width: 32px;\n",
              "    }\n",
              "\n",
              "    .colab-df-convert:hover {\n",
              "      background-color: #E2EBFA;\n",
              "      box-shadow: 0px 1px 2px rgba(60, 64, 67, 0.3), 0px 1px 3px 1px rgba(60, 64, 67, 0.15);\n",
              "      fill: #174EA6;\n",
              "    }\n",
              "\n",
              "    [theme=dark] .colab-df-convert {\n",
              "      background-color: #3B4455;\n",
              "      fill: #D2E3FC;\n",
              "    }\n",
              "\n",
              "    [theme=dark] .colab-df-convert:hover {\n",
              "      background-color: #434B5C;\n",
              "      box-shadow: 0px 1px 3px 1px rgba(0, 0, 0, 0.15);\n",
              "      filter: drop-shadow(0px 1px 2px rgba(0, 0, 0, 0.3));\n",
              "      fill: #FFFFFF;\n",
              "    }\n",
              "  </style>\n",
              "\n",
              "      <script>\n",
              "        const buttonEl =\n",
              "          document.querySelector('#df-a85dd7cd-67f3-4e46-a4ba-49f1bf15a192 button.colab-df-convert');\n",
              "        buttonEl.style.display =\n",
              "          google.colab.kernel.accessAllowed ? 'block' : 'none';\n",
              "\n",
              "        async function convertToInteractive(key) {\n",
              "          const element = document.querySelector('#df-a85dd7cd-67f3-4e46-a4ba-49f1bf15a192');\n",
              "          const dataTable =\n",
              "            await google.colab.kernel.invokeFunction('convertToInteractive',\n",
              "                                                     [key], {});\n",
              "          if (!dataTable) return;\n",
              "\n",
              "          const docLinkHtml = 'Like what you see? Visit the ' +\n",
              "            '<a target=\"_blank\" href=https://colab.research.google.com/notebooks/data_table.ipynb>data table notebook</a>'\n",
              "            + ' to learn more about interactive tables.';\n",
              "          element.innerHTML = '';\n",
              "          dataTable['output_type'] = 'display_data';\n",
              "          await google.colab.output.renderOutput(dataTable, element);\n",
              "          const docLink = document.createElement('div');\n",
              "          docLink.innerHTML = docLinkHtml;\n",
              "          element.appendChild(docLink);\n",
              "        }\n",
              "      </script>\n",
              "    </div>\n",
              "  </div>\n",
              "  "
            ]
          },
          "metadata": {},
          "execution_count": 112
        }
      ]
    },
    {
      "cell_type": "code",
      "source": [
        "users.dtypes    # now it's ok"
      ],
      "metadata": {
        "colab": {
          "base_uri": "https://localhost:8080/"
        },
        "id": "M2xkJHT35tPf",
        "outputId": "a2337afc-9ea4-4be0-9de5-642d2392ac14"
      },
      "execution_count": null,
      "outputs": [
        {
          "output_type": "execute_result",
          "data": {
            "text/plain": [
              "user_id      int64\n",
              "game_id      int64\n",
              "rating     float64\n",
              "dtype: object"
            ]
          },
          "metadata": {},
          "execution_count": 113
        }
      ]
    },
    {
      "cell_type": "code",
      "source": [
        "# check users.csv for duplicates\n",
        "users.duplicated()"
      ],
      "metadata": {
        "colab": {
          "base_uri": "https://localhost:8080/"
        },
        "id": "1wMICG5eAbtq",
        "outputId": "9c6b8528-cf16-4a37-fed9-4883dde4501f"
      },
      "execution_count": null,
      "outputs": [
        {
          "output_type": "execute_result",
          "data": {
            "text/plain": [
              "0       False\n",
              "1       False\n",
              "2       False\n",
              "3       False\n",
              "4       False\n",
              "        ...  \n",
              "5465    False\n",
              "5466    False\n",
              "5467    False\n",
              "5468    False\n",
              "5469    False\n",
              "Length: 5470, dtype: bool"
            ]
          },
          "metadata": {},
          "execution_count": 114
        }
      ]
    },
    {
      "cell_type": "code",
      "source": [
        "# check users.csv for missing values\n",
        "users.isna().mean()"
      ],
      "metadata": {
        "colab": {
          "base_uri": "https://localhost:8080/"
        },
        "id": "0SB4yyZE-u_y",
        "outputId": "ceaa54a2-bf6b-4572-b6f0-a107e9fcee5f"
      },
      "execution_count": null,
      "outputs": [
        {
          "output_type": "execute_result",
          "data": {
            "text/plain": [
              "user_id    0.0\n",
              "game_id    0.0\n",
              "rating     0.0\n",
              "dtype: float64"
            ]
          },
          "metadata": {},
          "execution_count": 115
        }
      ]
    },
    {
      "cell_type": "markdown",
      "source": [
        "### Opening *games.csv*"
      ],
      "metadata": {
        "id": "u4o47nBz7Q2a"
      }
    },
    {
      "cell_type": "code",
      "source": [
        "games = pd.read_csv(games_path, encoding=games_encoding)\n",
        "games.rename(columns = {'id_game':'game_id', 'price;':'price'}, inplace = True)\n",
        "games.iloc[0:10,:]"
      ],
      "metadata": {
        "colab": {
          "base_uri": "https://localhost:8080/",
          "height": 363
        },
        "id": "e1g0wwdz3wxF",
        "outputId": "30a6a08b-bed4-4e74-e0cc-47c73a58f102"
      },
      "execution_count": null,
      "outputs": [
        {
          "output_type": "execute_result",
          "data": {
            "text/plain": [
              "   game_id                         title                      genre    price\n",
              "0        1                Terraria(2011)  Open World Survival Craft   $9.99;\n",
              "1        2                Portal 2(2011)                 Platformer   $9.99;\n",
              "2        3          Stardew Valley(2016)                Farming Sim  $14.99;\n",
              "3        4                   Hades(2020)           Action Roguelike  $24.99;\n",
              "4        5           Left 4 Dead 2(2009)                    Zombies   $9.99;\n",
              "5        6       People Playground(2019)                    Sandbox   $9.99;\n",
              "6        7  Euro Truck Simulator 2(2012)             Transportation  $19.99;\n",
              "7        8       Vampire Survivors(2021)           Action Roguelike   $2.69;\n",
              "8        9                RimWorld(2018)                 Colony Sim  $34.99;\n",
              "9       10                  Portal(2007)                     Puzzle   $9.99;"
            ],
            "text/html": [
              "\n",
              "  <div id=\"df-f9d3262f-3aad-438b-b794-7619bc5befa0\">\n",
              "    <div class=\"colab-df-container\">\n",
              "      <div>\n",
              "<style scoped>\n",
              "    .dataframe tbody tr th:only-of-type {\n",
              "        vertical-align: middle;\n",
              "    }\n",
              "\n",
              "    .dataframe tbody tr th {\n",
              "        vertical-align: top;\n",
              "    }\n",
              "\n",
              "    .dataframe thead th {\n",
              "        text-align: right;\n",
              "    }\n",
              "</style>\n",
              "<table border=\"1\" class=\"dataframe\">\n",
              "  <thead>\n",
              "    <tr style=\"text-align: right;\">\n",
              "      <th></th>\n",
              "      <th>game_id</th>\n",
              "      <th>title</th>\n",
              "      <th>genre</th>\n",
              "      <th>price</th>\n",
              "    </tr>\n",
              "  </thead>\n",
              "  <tbody>\n",
              "    <tr>\n",
              "      <th>0</th>\n",
              "      <td>1</td>\n",
              "      <td>Terraria(2011)</td>\n",
              "      <td>Open World Survival Craft</td>\n",
              "      <td>$9.99;</td>\n",
              "    </tr>\n",
              "    <tr>\n",
              "      <th>1</th>\n",
              "      <td>2</td>\n",
              "      <td>Portal 2(2011)</td>\n",
              "      <td>Platformer</td>\n",
              "      <td>$9.99;</td>\n",
              "    </tr>\n",
              "    <tr>\n",
              "      <th>2</th>\n",
              "      <td>3</td>\n",
              "      <td>Stardew Valley(2016)</td>\n",
              "      <td>Farming Sim</td>\n",
              "      <td>$14.99;</td>\n",
              "    </tr>\n",
              "    <tr>\n",
              "      <th>3</th>\n",
              "      <td>4</td>\n",
              "      <td>Hades(2020)</td>\n",
              "      <td>Action Roguelike</td>\n",
              "      <td>$24.99;</td>\n",
              "    </tr>\n",
              "    <tr>\n",
              "      <th>4</th>\n",
              "      <td>5</td>\n",
              "      <td>Left 4 Dead 2(2009)</td>\n",
              "      <td>Zombies</td>\n",
              "      <td>$9.99;</td>\n",
              "    </tr>\n",
              "    <tr>\n",
              "      <th>5</th>\n",
              "      <td>6</td>\n",
              "      <td>People Playground(2019)</td>\n",
              "      <td>Sandbox</td>\n",
              "      <td>$9.99;</td>\n",
              "    </tr>\n",
              "    <tr>\n",
              "      <th>6</th>\n",
              "      <td>7</td>\n",
              "      <td>Euro Truck Simulator 2(2012)</td>\n",
              "      <td>Transportation</td>\n",
              "      <td>$19.99;</td>\n",
              "    </tr>\n",
              "    <tr>\n",
              "      <th>7</th>\n",
              "      <td>8</td>\n",
              "      <td>Vampire Survivors(2021)</td>\n",
              "      <td>Action Roguelike</td>\n",
              "      <td>$2.69;</td>\n",
              "    </tr>\n",
              "    <tr>\n",
              "      <th>8</th>\n",
              "      <td>9</td>\n",
              "      <td>RimWorld(2018)</td>\n",
              "      <td>Colony Sim</td>\n",
              "      <td>$34.99;</td>\n",
              "    </tr>\n",
              "    <tr>\n",
              "      <th>9</th>\n",
              "      <td>10</td>\n",
              "      <td>Portal(2007)</td>\n",
              "      <td>Puzzle</td>\n",
              "      <td>$9.99;</td>\n",
              "    </tr>\n",
              "  </tbody>\n",
              "</table>\n",
              "</div>\n",
              "      <button class=\"colab-df-convert\" onclick=\"convertToInteractive('df-f9d3262f-3aad-438b-b794-7619bc5befa0')\"\n",
              "              title=\"Convert this dataframe to an interactive table.\"\n",
              "              style=\"display:none;\">\n",
              "        \n",
              "  <svg xmlns=\"http://www.w3.org/2000/svg\" height=\"24px\"viewBox=\"0 0 24 24\"\n",
              "       width=\"24px\">\n",
              "    <path d=\"M0 0h24v24H0V0z\" fill=\"none\"/>\n",
              "    <path d=\"M18.56 5.44l.94 2.06.94-2.06 2.06-.94-2.06-.94-.94-2.06-.94 2.06-2.06.94zm-11 1L8.5 8.5l.94-2.06 2.06-.94-2.06-.94L8.5 2.5l-.94 2.06-2.06.94zm10 10l.94 2.06.94-2.06 2.06-.94-2.06-.94-.94-2.06-.94 2.06-2.06.94z\"/><path d=\"M17.41 7.96l-1.37-1.37c-.4-.4-.92-.59-1.43-.59-.52 0-1.04.2-1.43.59L10.3 9.45l-7.72 7.72c-.78.78-.78 2.05 0 2.83L4 21.41c.39.39.9.59 1.41.59.51 0 1.02-.2 1.41-.59l7.78-7.78 2.81-2.81c.8-.78.8-2.07 0-2.86zM5.41 20L4 18.59l7.72-7.72 1.47 1.35L5.41 20z\"/>\n",
              "  </svg>\n",
              "      </button>\n",
              "      \n",
              "  <style>\n",
              "    .colab-df-container {\n",
              "      display:flex;\n",
              "      flex-wrap:wrap;\n",
              "      gap: 12px;\n",
              "    }\n",
              "\n",
              "    .colab-df-convert {\n",
              "      background-color: #E8F0FE;\n",
              "      border: none;\n",
              "      border-radius: 50%;\n",
              "      cursor: pointer;\n",
              "      display: none;\n",
              "      fill: #1967D2;\n",
              "      height: 32px;\n",
              "      padding: 0 0 0 0;\n",
              "      width: 32px;\n",
              "    }\n",
              "\n",
              "    .colab-df-convert:hover {\n",
              "      background-color: #E2EBFA;\n",
              "      box-shadow: 0px 1px 2px rgba(60, 64, 67, 0.3), 0px 1px 3px 1px rgba(60, 64, 67, 0.15);\n",
              "      fill: #174EA6;\n",
              "    }\n",
              "\n",
              "    [theme=dark] .colab-df-convert {\n",
              "      background-color: #3B4455;\n",
              "      fill: #D2E3FC;\n",
              "    }\n",
              "\n",
              "    [theme=dark] .colab-df-convert:hover {\n",
              "      background-color: #434B5C;\n",
              "      box-shadow: 0px 1px 3px 1px rgba(0, 0, 0, 0.15);\n",
              "      filter: drop-shadow(0px 1px 2px rgba(0, 0, 0, 0.3));\n",
              "      fill: #FFFFFF;\n",
              "    }\n",
              "  </style>\n",
              "\n",
              "      <script>\n",
              "        const buttonEl =\n",
              "          document.querySelector('#df-f9d3262f-3aad-438b-b794-7619bc5befa0 button.colab-df-convert');\n",
              "        buttonEl.style.display =\n",
              "          google.colab.kernel.accessAllowed ? 'block' : 'none';\n",
              "\n",
              "        async function convertToInteractive(key) {\n",
              "          const element = document.querySelector('#df-f9d3262f-3aad-438b-b794-7619bc5befa0');\n",
              "          const dataTable =\n",
              "            await google.colab.kernel.invokeFunction('convertToInteractive',\n",
              "                                                     [key], {});\n",
              "          if (!dataTable) return;\n",
              "\n",
              "          const docLinkHtml = 'Like what you see? Visit the ' +\n",
              "            '<a target=\"_blank\" href=https://colab.research.google.com/notebooks/data_table.ipynb>data table notebook</a>'\n",
              "            + ' to learn more about interactive tables.';\n",
              "          element.innerHTML = '';\n",
              "          dataTable['output_type'] = 'display_data';\n",
              "          await google.colab.output.renderOutput(dataTable, element);\n",
              "          const docLink = document.createElement('div');\n",
              "          docLink.innerHTML = docLinkHtml;\n",
              "          element.appendChild(docLink);\n",
              "        }\n",
              "      </script>\n",
              "    </div>\n",
              "  </div>\n",
              "  "
            ]
          },
          "metadata": {},
          "execution_count": 116
        }
      ]
    },
    {
      "cell_type": "code",
      "source": [
        "games.dtypes"
      ],
      "metadata": {
        "colab": {
          "base_uri": "https://localhost:8080/"
        },
        "id": "YCSdTtlpB9i-",
        "outputId": "4c7c1a0a-52e1-43a7-b8bc-700c79200c6e"
      },
      "execution_count": null,
      "outputs": [
        {
          "output_type": "execute_result",
          "data": {
            "text/plain": [
              "game_id     int64\n",
              "title      object\n",
              "genre      object\n",
              "price      object\n",
              "dtype: object"
            ]
          },
          "metadata": {},
          "execution_count": 117
        }
      ]
    },
    {
      "cell_type": "markdown",
      "source": [
        "Let's break down the columns of *games.csv* by types:"
      ],
      "metadata": {
        "id": "i8tqg9Et24Of"
      }
    },
    {
      "cell_type": "code",
      "source": [
        "games_num_cols = [\n",
        "    'game_id',\n",
        "    'price'\n",
        "]\n",
        "\n",
        "games_cat_cols = [\n",
        "    'genre'\n",
        "]\n",
        "\n",
        "games_other_cols = [        \n",
        "    'title'\n",
        "]\n",
        "\n",
        "#games_cols = games_num_cols + games_cat_cols + games_other_cols"
      ],
      "metadata": {
        "id": "ZxrRAdSP24eQ"
      },
      "execution_count": null,
      "outputs": []
    },
    {
      "cell_type": "code",
      "source": [
        "# check games.csv for duplicates\n",
        "games.duplicated()"
      ],
      "metadata": {
        "colab": {
          "base_uri": "https://localhost:8080/"
        },
        "id": "qvsw5VxFBbfU",
        "outputId": "9b94d7d2-593f-488c-f60d-046c68754027"
      },
      "execution_count": null,
      "outputs": [
        {
          "output_type": "execute_result",
          "data": {
            "text/plain": [
              "0      False\n",
              "1      False\n",
              "2      False\n",
              "3      False\n",
              "4      False\n",
              "       ...  \n",
              "245    False\n",
              "246    False\n",
              "247    False\n",
              "248    False\n",
              "249    False\n",
              "Length: 250, dtype: bool"
            ]
          },
          "metadata": {},
          "execution_count": 119
        }
      ]
    },
    {
      "cell_type": "code",
      "source": [
        "# check games.csv for missing values\n",
        "games.isna().mean()"
      ],
      "metadata": {
        "colab": {
          "base_uri": "https://localhost:8080/"
        },
        "id": "KbKO3Uab-3Z2",
        "outputId": "f52978af-40bd-472d-ebf2-2eb696f00daa"
      },
      "execution_count": null,
      "outputs": [
        {
          "output_type": "execute_result",
          "data": {
            "text/plain": [
              "game_id    0.0\n",
              "title      0.0\n",
              "genre      0.0\n",
              "price      0.0\n",
              "dtype: float64"
            ]
          },
          "metadata": {},
          "execution_count": 120
        }
      ]
    },
    {
      "cell_type": "code",
      "source": [
        "# remove the .csv semicolon delimeter and the dollar sign\n",
        "games['price'] = games['price'].str.replace(';', '')\n",
        "games['price'] = games['price'].str.replace('$', '')\n",
        "\n",
        "# Replace the 'Free' price with 0.0\n",
        "games.loc[games['price'].str.lower() == 'free', 'price'] = '0.00'\n",
        "games.iloc[0:17]"
      ],
      "metadata": {
        "colab": {
          "base_uri": "https://localhost:8080/",
          "height": 637
        },
        "id": "q76fN9jdB-Fw",
        "outputId": "d31e2e9b-875c-4654-e731-9a900de7068f"
      },
      "execution_count": null,
      "outputs": [
        {
          "output_type": "stream",
          "name": "stderr",
          "text": [
            "/usr/local/lib/python3.7/dist-packages/ipykernel_launcher.py:3: FutureWarning: The default value of regex will change from True to False in a future version. In addition, single character regular expressions will *not* be treated as literal strings when regex=True.\n",
            "  This is separate from the ipykernel package so we can avoid doing imports until\n"
          ]
        },
        {
          "output_type": "execute_result",
          "data": {
            "text/plain": [
              "    game_id                                title                      genre  \\\n",
              "0         1                       Terraria(2011)  Open World Survival Craft   \n",
              "1         2                       Portal 2(2011)                 Platformer   \n",
              "2         3                 Stardew Valley(2016)                Farming Sim   \n",
              "3         4                          Hades(2020)           Action Roguelike   \n",
              "4         5                  Left 4 Dead 2(2009)                    Zombies   \n",
              "5         6              People Playground(2019)                    Sandbox   \n",
              "6         7         Euro Truck Simulator 2(2012)             Transportation   \n",
              "7         8              Vampire Survivors(2021)           Action Roguelike   \n",
              "8         9                       RimWorld(2018)                 Colony Sim   \n",
              "9        10                         Portal(2007)                     Puzzle   \n",
              "10       11  The Binding of Isaac: Rebirth(2014)           Action Roguelike   \n",
              "11       12                    Garry's Mod(2006)                    Sandbox   \n",
              "12       13                   Phasmophobia(2020)                     Horror   \n",
              "13       14                Half-Life: Alyx(2020)                        FPS   \n",
              "14       15                 Counter-Strike(2000)                     Action   \n",
              "15       16                       Factorio(2020)                 Automation   \n",
              "16       17                      Helltaker(2020)                       Cute   \n",
              "\n",
              "    price  \n",
              "0    9.99  \n",
              "1    9.99  \n",
              "2   14.99  \n",
              "3   24.99  \n",
              "4    9.99  \n",
              "5    9.99  \n",
              "6   19.99  \n",
              "7    2.69  \n",
              "8   34.99  \n",
              "9    9.99  \n",
              "10  14.99  \n",
              "11   9.99  \n",
              "12  13.99  \n",
              "13  59.99  \n",
              "14   9.99  \n",
              "15  30.00  \n",
              "16   0.00  "
            ],
            "text/html": [
              "\n",
              "  <div id=\"df-bc3fb74c-a8b2-49ba-9cab-b5743df60119\">\n",
              "    <div class=\"colab-df-container\">\n",
              "      <div>\n",
              "<style scoped>\n",
              "    .dataframe tbody tr th:only-of-type {\n",
              "        vertical-align: middle;\n",
              "    }\n",
              "\n",
              "    .dataframe tbody tr th {\n",
              "        vertical-align: top;\n",
              "    }\n",
              "\n",
              "    .dataframe thead th {\n",
              "        text-align: right;\n",
              "    }\n",
              "</style>\n",
              "<table border=\"1\" class=\"dataframe\">\n",
              "  <thead>\n",
              "    <tr style=\"text-align: right;\">\n",
              "      <th></th>\n",
              "      <th>game_id</th>\n",
              "      <th>title</th>\n",
              "      <th>genre</th>\n",
              "      <th>price</th>\n",
              "    </tr>\n",
              "  </thead>\n",
              "  <tbody>\n",
              "    <tr>\n",
              "      <th>0</th>\n",
              "      <td>1</td>\n",
              "      <td>Terraria(2011)</td>\n",
              "      <td>Open World Survival Craft</td>\n",
              "      <td>9.99</td>\n",
              "    </tr>\n",
              "    <tr>\n",
              "      <th>1</th>\n",
              "      <td>2</td>\n",
              "      <td>Portal 2(2011)</td>\n",
              "      <td>Platformer</td>\n",
              "      <td>9.99</td>\n",
              "    </tr>\n",
              "    <tr>\n",
              "      <th>2</th>\n",
              "      <td>3</td>\n",
              "      <td>Stardew Valley(2016)</td>\n",
              "      <td>Farming Sim</td>\n",
              "      <td>14.99</td>\n",
              "    </tr>\n",
              "    <tr>\n",
              "      <th>3</th>\n",
              "      <td>4</td>\n",
              "      <td>Hades(2020)</td>\n",
              "      <td>Action Roguelike</td>\n",
              "      <td>24.99</td>\n",
              "    </tr>\n",
              "    <tr>\n",
              "      <th>4</th>\n",
              "      <td>5</td>\n",
              "      <td>Left 4 Dead 2(2009)</td>\n",
              "      <td>Zombies</td>\n",
              "      <td>9.99</td>\n",
              "    </tr>\n",
              "    <tr>\n",
              "      <th>5</th>\n",
              "      <td>6</td>\n",
              "      <td>People Playground(2019)</td>\n",
              "      <td>Sandbox</td>\n",
              "      <td>9.99</td>\n",
              "    </tr>\n",
              "    <tr>\n",
              "      <th>6</th>\n",
              "      <td>7</td>\n",
              "      <td>Euro Truck Simulator 2(2012)</td>\n",
              "      <td>Transportation</td>\n",
              "      <td>19.99</td>\n",
              "    </tr>\n",
              "    <tr>\n",
              "      <th>7</th>\n",
              "      <td>8</td>\n",
              "      <td>Vampire Survivors(2021)</td>\n",
              "      <td>Action Roguelike</td>\n",
              "      <td>2.69</td>\n",
              "    </tr>\n",
              "    <tr>\n",
              "      <th>8</th>\n",
              "      <td>9</td>\n",
              "      <td>RimWorld(2018)</td>\n",
              "      <td>Colony Sim</td>\n",
              "      <td>34.99</td>\n",
              "    </tr>\n",
              "    <tr>\n",
              "      <th>9</th>\n",
              "      <td>10</td>\n",
              "      <td>Portal(2007)</td>\n",
              "      <td>Puzzle</td>\n",
              "      <td>9.99</td>\n",
              "    </tr>\n",
              "    <tr>\n",
              "      <th>10</th>\n",
              "      <td>11</td>\n",
              "      <td>The Binding of Isaac: Rebirth(2014)</td>\n",
              "      <td>Action Roguelike</td>\n",
              "      <td>14.99</td>\n",
              "    </tr>\n",
              "    <tr>\n",
              "      <th>11</th>\n",
              "      <td>12</td>\n",
              "      <td>Garry's Mod(2006)</td>\n",
              "      <td>Sandbox</td>\n",
              "      <td>9.99</td>\n",
              "    </tr>\n",
              "    <tr>\n",
              "      <th>12</th>\n",
              "      <td>13</td>\n",
              "      <td>Phasmophobia(2020)</td>\n",
              "      <td>Horror</td>\n",
              "      <td>13.99</td>\n",
              "    </tr>\n",
              "    <tr>\n",
              "      <th>13</th>\n",
              "      <td>14</td>\n",
              "      <td>Half-Life: Alyx(2020)</td>\n",
              "      <td>FPS</td>\n",
              "      <td>59.99</td>\n",
              "    </tr>\n",
              "    <tr>\n",
              "      <th>14</th>\n",
              "      <td>15</td>\n",
              "      <td>Counter-Strike(2000)</td>\n",
              "      <td>Action</td>\n",
              "      <td>9.99</td>\n",
              "    </tr>\n",
              "    <tr>\n",
              "      <th>15</th>\n",
              "      <td>16</td>\n",
              "      <td>Factorio(2020)</td>\n",
              "      <td>Automation</td>\n",
              "      <td>30.00</td>\n",
              "    </tr>\n",
              "    <tr>\n",
              "      <th>16</th>\n",
              "      <td>17</td>\n",
              "      <td>Helltaker(2020)</td>\n",
              "      <td>Cute</td>\n",
              "      <td>0.00</td>\n",
              "    </tr>\n",
              "  </tbody>\n",
              "</table>\n",
              "</div>\n",
              "      <button class=\"colab-df-convert\" onclick=\"convertToInteractive('df-bc3fb74c-a8b2-49ba-9cab-b5743df60119')\"\n",
              "              title=\"Convert this dataframe to an interactive table.\"\n",
              "              style=\"display:none;\">\n",
              "        \n",
              "  <svg xmlns=\"http://www.w3.org/2000/svg\" height=\"24px\"viewBox=\"0 0 24 24\"\n",
              "       width=\"24px\">\n",
              "    <path d=\"M0 0h24v24H0V0z\" fill=\"none\"/>\n",
              "    <path d=\"M18.56 5.44l.94 2.06.94-2.06 2.06-.94-2.06-.94-.94-2.06-.94 2.06-2.06.94zm-11 1L8.5 8.5l.94-2.06 2.06-.94-2.06-.94L8.5 2.5l-.94 2.06-2.06.94zm10 10l.94 2.06.94-2.06 2.06-.94-2.06-.94-.94-2.06-.94 2.06-2.06.94z\"/><path d=\"M17.41 7.96l-1.37-1.37c-.4-.4-.92-.59-1.43-.59-.52 0-1.04.2-1.43.59L10.3 9.45l-7.72 7.72c-.78.78-.78 2.05 0 2.83L4 21.41c.39.39.9.59 1.41.59.51 0 1.02-.2 1.41-.59l7.78-7.78 2.81-2.81c.8-.78.8-2.07 0-2.86zM5.41 20L4 18.59l7.72-7.72 1.47 1.35L5.41 20z\"/>\n",
              "  </svg>\n",
              "      </button>\n",
              "      \n",
              "  <style>\n",
              "    .colab-df-container {\n",
              "      display:flex;\n",
              "      flex-wrap:wrap;\n",
              "      gap: 12px;\n",
              "    }\n",
              "\n",
              "    .colab-df-convert {\n",
              "      background-color: #E8F0FE;\n",
              "      border: none;\n",
              "      border-radius: 50%;\n",
              "      cursor: pointer;\n",
              "      display: none;\n",
              "      fill: #1967D2;\n",
              "      height: 32px;\n",
              "      padding: 0 0 0 0;\n",
              "      width: 32px;\n",
              "    }\n",
              "\n",
              "    .colab-df-convert:hover {\n",
              "      background-color: #E2EBFA;\n",
              "      box-shadow: 0px 1px 2px rgba(60, 64, 67, 0.3), 0px 1px 3px 1px rgba(60, 64, 67, 0.15);\n",
              "      fill: #174EA6;\n",
              "    }\n",
              "\n",
              "    [theme=dark] .colab-df-convert {\n",
              "      background-color: #3B4455;\n",
              "      fill: #D2E3FC;\n",
              "    }\n",
              "\n",
              "    [theme=dark] .colab-df-convert:hover {\n",
              "      background-color: #434B5C;\n",
              "      box-shadow: 0px 1px 3px 1px rgba(0, 0, 0, 0.15);\n",
              "      filter: drop-shadow(0px 1px 2px rgba(0, 0, 0, 0.3));\n",
              "      fill: #FFFFFF;\n",
              "    }\n",
              "  </style>\n",
              "\n",
              "      <script>\n",
              "        const buttonEl =\n",
              "          document.querySelector('#df-bc3fb74c-a8b2-49ba-9cab-b5743df60119 button.colab-df-convert');\n",
              "        buttonEl.style.display =\n",
              "          google.colab.kernel.accessAllowed ? 'block' : 'none';\n",
              "\n",
              "        async function convertToInteractive(key) {\n",
              "          const element = document.querySelector('#df-bc3fb74c-a8b2-49ba-9cab-b5743df60119');\n",
              "          const dataTable =\n",
              "            await google.colab.kernel.invokeFunction('convertToInteractive',\n",
              "                                                     [key], {});\n",
              "          if (!dataTable) return;\n",
              "\n",
              "          const docLinkHtml = 'Like what you see? Visit the ' +\n",
              "            '<a target=\"_blank\" href=https://colab.research.google.com/notebooks/data_table.ipynb>data table notebook</a>'\n",
              "            + ' to learn more about interactive tables.';\n",
              "          element.innerHTML = '';\n",
              "          dataTable['output_type'] = 'display_data';\n",
              "          await google.colab.output.renderOutput(dataTable, element);\n",
              "          const docLink = document.createElement('div');\n",
              "          docLink.innerHTML = docLinkHtml;\n",
              "          element.appendChild(docLink);\n",
              "        }\n",
              "      </script>\n",
              "    </div>\n",
              "  </div>\n",
              "  "
            ]
          },
          "metadata": {},
          "execution_count": 121
        }
      ]
    },
    {
      "cell_type": "code",
      "source": [
        "# Cast price column to float64\n",
        "\n",
        "games['price'] = pd.to_numeric(games['price'])\n",
        "games.iloc[0:17]"
      ],
      "metadata": {
        "colab": {
          "base_uri": "https://localhost:8080/",
          "height": 582
        },
        "id": "KBkVWVlQOL9J",
        "outputId": "aaaa0ed1-aa66-46ad-cd1d-a36487baab58"
      },
      "execution_count": null,
      "outputs": [
        {
          "output_type": "execute_result",
          "data": {
            "text/plain": [
              "    game_id                                title                      genre  \\\n",
              "0         1                       Terraria(2011)  Open World Survival Craft   \n",
              "1         2                       Portal 2(2011)                 Platformer   \n",
              "2         3                 Stardew Valley(2016)                Farming Sim   \n",
              "3         4                          Hades(2020)           Action Roguelike   \n",
              "4         5                  Left 4 Dead 2(2009)                    Zombies   \n",
              "5         6              People Playground(2019)                    Sandbox   \n",
              "6         7         Euro Truck Simulator 2(2012)             Transportation   \n",
              "7         8              Vampire Survivors(2021)           Action Roguelike   \n",
              "8         9                       RimWorld(2018)                 Colony Sim   \n",
              "9        10                         Portal(2007)                     Puzzle   \n",
              "10       11  The Binding of Isaac: Rebirth(2014)           Action Roguelike   \n",
              "11       12                    Garry's Mod(2006)                    Sandbox   \n",
              "12       13                   Phasmophobia(2020)                     Horror   \n",
              "13       14                Half-Life: Alyx(2020)                        FPS   \n",
              "14       15                 Counter-Strike(2000)                     Action   \n",
              "15       16                       Factorio(2020)                 Automation   \n",
              "16       17                      Helltaker(2020)                       Cute   \n",
              "\n",
              "    price  \n",
              "0    9.99  \n",
              "1    9.99  \n",
              "2   14.99  \n",
              "3   24.99  \n",
              "4    9.99  \n",
              "5    9.99  \n",
              "6   19.99  \n",
              "7    2.69  \n",
              "8   34.99  \n",
              "9    9.99  \n",
              "10  14.99  \n",
              "11   9.99  \n",
              "12  13.99  \n",
              "13  59.99  \n",
              "14   9.99  \n",
              "15  30.00  \n",
              "16   0.00  "
            ],
            "text/html": [
              "\n",
              "  <div id=\"df-224fed50-f03a-4f3e-ab44-955a4afe55b9\">\n",
              "    <div class=\"colab-df-container\">\n",
              "      <div>\n",
              "<style scoped>\n",
              "    .dataframe tbody tr th:only-of-type {\n",
              "        vertical-align: middle;\n",
              "    }\n",
              "\n",
              "    .dataframe tbody tr th {\n",
              "        vertical-align: top;\n",
              "    }\n",
              "\n",
              "    .dataframe thead th {\n",
              "        text-align: right;\n",
              "    }\n",
              "</style>\n",
              "<table border=\"1\" class=\"dataframe\">\n",
              "  <thead>\n",
              "    <tr style=\"text-align: right;\">\n",
              "      <th></th>\n",
              "      <th>game_id</th>\n",
              "      <th>title</th>\n",
              "      <th>genre</th>\n",
              "      <th>price</th>\n",
              "    </tr>\n",
              "  </thead>\n",
              "  <tbody>\n",
              "    <tr>\n",
              "      <th>0</th>\n",
              "      <td>1</td>\n",
              "      <td>Terraria(2011)</td>\n",
              "      <td>Open World Survival Craft</td>\n",
              "      <td>9.99</td>\n",
              "    </tr>\n",
              "    <tr>\n",
              "      <th>1</th>\n",
              "      <td>2</td>\n",
              "      <td>Portal 2(2011)</td>\n",
              "      <td>Platformer</td>\n",
              "      <td>9.99</td>\n",
              "    </tr>\n",
              "    <tr>\n",
              "      <th>2</th>\n",
              "      <td>3</td>\n",
              "      <td>Stardew Valley(2016)</td>\n",
              "      <td>Farming Sim</td>\n",
              "      <td>14.99</td>\n",
              "    </tr>\n",
              "    <tr>\n",
              "      <th>3</th>\n",
              "      <td>4</td>\n",
              "      <td>Hades(2020)</td>\n",
              "      <td>Action Roguelike</td>\n",
              "      <td>24.99</td>\n",
              "    </tr>\n",
              "    <tr>\n",
              "      <th>4</th>\n",
              "      <td>5</td>\n",
              "      <td>Left 4 Dead 2(2009)</td>\n",
              "      <td>Zombies</td>\n",
              "      <td>9.99</td>\n",
              "    </tr>\n",
              "    <tr>\n",
              "      <th>5</th>\n",
              "      <td>6</td>\n",
              "      <td>People Playground(2019)</td>\n",
              "      <td>Sandbox</td>\n",
              "      <td>9.99</td>\n",
              "    </tr>\n",
              "    <tr>\n",
              "      <th>6</th>\n",
              "      <td>7</td>\n",
              "      <td>Euro Truck Simulator 2(2012)</td>\n",
              "      <td>Transportation</td>\n",
              "      <td>19.99</td>\n",
              "    </tr>\n",
              "    <tr>\n",
              "      <th>7</th>\n",
              "      <td>8</td>\n",
              "      <td>Vampire Survivors(2021)</td>\n",
              "      <td>Action Roguelike</td>\n",
              "      <td>2.69</td>\n",
              "    </tr>\n",
              "    <tr>\n",
              "      <th>8</th>\n",
              "      <td>9</td>\n",
              "      <td>RimWorld(2018)</td>\n",
              "      <td>Colony Sim</td>\n",
              "      <td>34.99</td>\n",
              "    </tr>\n",
              "    <tr>\n",
              "      <th>9</th>\n",
              "      <td>10</td>\n",
              "      <td>Portal(2007)</td>\n",
              "      <td>Puzzle</td>\n",
              "      <td>9.99</td>\n",
              "    </tr>\n",
              "    <tr>\n",
              "      <th>10</th>\n",
              "      <td>11</td>\n",
              "      <td>The Binding of Isaac: Rebirth(2014)</td>\n",
              "      <td>Action Roguelike</td>\n",
              "      <td>14.99</td>\n",
              "    </tr>\n",
              "    <tr>\n",
              "      <th>11</th>\n",
              "      <td>12</td>\n",
              "      <td>Garry's Mod(2006)</td>\n",
              "      <td>Sandbox</td>\n",
              "      <td>9.99</td>\n",
              "    </tr>\n",
              "    <tr>\n",
              "      <th>12</th>\n",
              "      <td>13</td>\n",
              "      <td>Phasmophobia(2020)</td>\n",
              "      <td>Horror</td>\n",
              "      <td>13.99</td>\n",
              "    </tr>\n",
              "    <tr>\n",
              "      <th>13</th>\n",
              "      <td>14</td>\n",
              "      <td>Half-Life: Alyx(2020)</td>\n",
              "      <td>FPS</td>\n",
              "      <td>59.99</td>\n",
              "    </tr>\n",
              "    <tr>\n",
              "      <th>14</th>\n",
              "      <td>15</td>\n",
              "      <td>Counter-Strike(2000)</td>\n",
              "      <td>Action</td>\n",
              "      <td>9.99</td>\n",
              "    </tr>\n",
              "    <tr>\n",
              "      <th>15</th>\n",
              "      <td>16</td>\n",
              "      <td>Factorio(2020)</td>\n",
              "      <td>Automation</td>\n",
              "      <td>30.00</td>\n",
              "    </tr>\n",
              "    <tr>\n",
              "      <th>16</th>\n",
              "      <td>17</td>\n",
              "      <td>Helltaker(2020)</td>\n",
              "      <td>Cute</td>\n",
              "      <td>0.00</td>\n",
              "    </tr>\n",
              "  </tbody>\n",
              "</table>\n",
              "</div>\n",
              "      <button class=\"colab-df-convert\" onclick=\"convertToInteractive('df-224fed50-f03a-4f3e-ab44-955a4afe55b9')\"\n",
              "              title=\"Convert this dataframe to an interactive table.\"\n",
              "              style=\"display:none;\">\n",
              "        \n",
              "  <svg xmlns=\"http://www.w3.org/2000/svg\" height=\"24px\"viewBox=\"0 0 24 24\"\n",
              "       width=\"24px\">\n",
              "    <path d=\"M0 0h24v24H0V0z\" fill=\"none\"/>\n",
              "    <path d=\"M18.56 5.44l.94 2.06.94-2.06 2.06-.94-2.06-.94-.94-2.06-.94 2.06-2.06.94zm-11 1L8.5 8.5l.94-2.06 2.06-.94-2.06-.94L8.5 2.5l-.94 2.06-2.06.94zm10 10l.94 2.06.94-2.06 2.06-.94-2.06-.94-.94-2.06-.94 2.06-2.06.94z\"/><path d=\"M17.41 7.96l-1.37-1.37c-.4-.4-.92-.59-1.43-.59-.52 0-1.04.2-1.43.59L10.3 9.45l-7.72 7.72c-.78.78-.78 2.05 0 2.83L4 21.41c.39.39.9.59 1.41.59.51 0 1.02-.2 1.41-.59l7.78-7.78 2.81-2.81c.8-.78.8-2.07 0-2.86zM5.41 20L4 18.59l7.72-7.72 1.47 1.35L5.41 20z\"/>\n",
              "  </svg>\n",
              "      </button>\n",
              "      \n",
              "  <style>\n",
              "    .colab-df-container {\n",
              "      display:flex;\n",
              "      flex-wrap:wrap;\n",
              "      gap: 12px;\n",
              "    }\n",
              "\n",
              "    .colab-df-convert {\n",
              "      background-color: #E8F0FE;\n",
              "      border: none;\n",
              "      border-radius: 50%;\n",
              "      cursor: pointer;\n",
              "      display: none;\n",
              "      fill: #1967D2;\n",
              "      height: 32px;\n",
              "      padding: 0 0 0 0;\n",
              "      width: 32px;\n",
              "    }\n",
              "\n",
              "    .colab-df-convert:hover {\n",
              "      background-color: #E2EBFA;\n",
              "      box-shadow: 0px 1px 2px rgba(60, 64, 67, 0.3), 0px 1px 3px 1px rgba(60, 64, 67, 0.15);\n",
              "      fill: #174EA6;\n",
              "    }\n",
              "\n",
              "    [theme=dark] .colab-df-convert {\n",
              "      background-color: #3B4455;\n",
              "      fill: #D2E3FC;\n",
              "    }\n",
              "\n",
              "    [theme=dark] .colab-df-convert:hover {\n",
              "      background-color: #434B5C;\n",
              "      box-shadow: 0px 1px 3px 1px rgba(0, 0, 0, 0.15);\n",
              "      filter: drop-shadow(0px 1px 2px rgba(0, 0, 0, 0.3));\n",
              "      fill: #FFFFFF;\n",
              "    }\n",
              "  </style>\n",
              "\n",
              "      <script>\n",
              "        const buttonEl =\n",
              "          document.querySelector('#df-224fed50-f03a-4f3e-ab44-955a4afe55b9 button.colab-df-convert');\n",
              "        buttonEl.style.display =\n",
              "          google.colab.kernel.accessAllowed ? 'block' : 'none';\n",
              "\n",
              "        async function convertToInteractive(key) {\n",
              "          const element = document.querySelector('#df-224fed50-f03a-4f3e-ab44-955a4afe55b9');\n",
              "          const dataTable =\n",
              "            await google.colab.kernel.invokeFunction('convertToInteractive',\n",
              "                                                     [key], {});\n",
              "          if (!dataTable) return;\n",
              "\n",
              "          const docLinkHtml = 'Like what you see? Visit the ' +\n",
              "            '<a target=\"_blank\" href=https://colab.research.google.com/notebooks/data_table.ipynb>data table notebook</a>'\n",
              "            + ' to learn more about interactive tables.';\n",
              "          element.innerHTML = '';\n",
              "          dataTable['output_type'] = 'display_data';\n",
              "          await google.colab.output.renderOutput(dataTable, element);\n",
              "          const docLink = document.createElement('div');\n",
              "          docLink.innerHTML = docLinkHtml;\n",
              "          element.appendChild(docLink);\n",
              "        }\n",
              "      </script>\n",
              "    </div>\n",
              "  </div>\n",
              "  "
            ]
          },
          "metadata": {},
          "execution_count": 122
        }
      ]
    },
    {
      "cell_type": "code",
      "source": [
        "games.dtypes"
      ],
      "metadata": {
        "colab": {
          "base_uri": "https://localhost:8080/"
        },
        "id": "zEUxcIB4CQqX",
        "outputId": "06450939-0e90-4eec-9353-c656d75de842"
      },
      "execution_count": null,
      "outputs": [
        {
          "output_type": "execute_result",
          "data": {
            "text/plain": [
              "game_id      int64\n",
              "title       object\n",
              "genre       object\n",
              "price      float64\n",
              "dtype: object"
            ]
          },
          "metadata": {},
          "execution_count": 123
        }
      ]
    },
    {
      "cell_type": "markdown",
      "source": [
        "### Deriving a new feature: is a game free?\n",
        "\n"
      ],
      "metadata": {
        "id": "0iIO1JPqEXaQ"
      }
    },
    {
      "cell_type": "code",
      "source": [
        "games['is_free'] = games['price'] == 0\n",
        "games_cat_cols.append('is_free')\n",
        "games.iloc[15:18]"
      ],
      "metadata": {
        "colab": {
          "base_uri": "https://localhost:8080/",
          "height": 143
        },
        "id": "wkqHeP76EbaM",
        "outputId": "b536c17c-7865-495d-d39d-6ee0557ac8c5"
      },
      "execution_count": null,
      "outputs": [
        {
          "output_type": "execute_result",
          "data": {
            "text/plain": [
              "    game_id                         title       genre  price  is_free\n",
              "15       16                Factorio(2020)  Automation  30.00    False\n",
              "16       17               Helltaker(2020)        Cute   0.00     True\n",
              "17       18  Mount & Blade: Warband(2010)    Medieval  19.99    False"
            ],
            "text/html": [
              "\n",
              "  <div id=\"df-ef3d3a88-e0be-4b92-a9e4-dcfd11a7bea7\">\n",
              "    <div class=\"colab-df-container\">\n",
              "      <div>\n",
              "<style scoped>\n",
              "    .dataframe tbody tr th:only-of-type {\n",
              "        vertical-align: middle;\n",
              "    }\n",
              "\n",
              "    .dataframe tbody tr th {\n",
              "        vertical-align: top;\n",
              "    }\n",
              "\n",
              "    .dataframe thead th {\n",
              "        text-align: right;\n",
              "    }\n",
              "</style>\n",
              "<table border=\"1\" class=\"dataframe\">\n",
              "  <thead>\n",
              "    <tr style=\"text-align: right;\">\n",
              "      <th></th>\n",
              "      <th>game_id</th>\n",
              "      <th>title</th>\n",
              "      <th>genre</th>\n",
              "      <th>price</th>\n",
              "      <th>is_free</th>\n",
              "    </tr>\n",
              "  </thead>\n",
              "  <tbody>\n",
              "    <tr>\n",
              "      <th>15</th>\n",
              "      <td>16</td>\n",
              "      <td>Factorio(2020)</td>\n",
              "      <td>Automation</td>\n",
              "      <td>30.00</td>\n",
              "      <td>False</td>\n",
              "    </tr>\n",
              "    <tr>\n",
              "      <th>16</th>\n",
              "      <td>17</td>\n",
              "      <td>Helltaker(2020)</td>\n",
              "      <td>Cute</td>\n",
              "      <td>0.00</td>\n",
              "      <td>True</td>\n",
              "    </tr>\n",
              "    <tr>\n",
              "      <th>17</th>\n",
              "      <td>18</td>\n",
              "      <td>Mount &amp; Blade: Warband(2010)</td>\n",
              "      <td>Medieval</td>\n",
              "      <td>19.99</td>\n",
              "      <td>False</td>\n",
              "    </tr>\n",
              "  </tbody>\n",
              "</table>\n",
              "</div>\n",
              "      <button class=\"colab-df-convert\" onclick=\"convertToInteractive('df-ef3d3a88-e0be-4b92-a9e4-dcfd11a7bea7')\"\n",
              "              title=\"Convert this dataframe to an interactive table.\"\n",
              "              style=\"display:none;\">\n",
              "        \n",
              "  <svg xmlns=\"http://www.w3.org/2000/svg\" height=\"24px\"viewBox=\"0 0 24 24\"\n",
              "       width=\"24px\">\n",
              "    <path d=\"M0 0h24v24H0V0z\" fill=\"none\"/>\n",
              "    <path d=\"M18.56 5.44l.94 2.06.94-2.06 2.06-.94-2.06-.94-.94-2.06-.94 2.06-2.06.94zm-11 1L8.5 8.5l.94-2.06 2.06-.94-2.06-.94L8.5 2.5l-.94 2.06-2.06.94zm10 10l.94 2.06.94-2.06 2.06-.94-2.06-.94-.94-2.06-.94 2.06-2.06.94z\"/><path d=\"M17.41 7.96l-1.37-1.37c-.4-.4-.92-.59-1.43-.59-.52 0-1.04.2-1.43.59L10.3 9.45l-7.72 7.72c-.78.78-.78 2.05 0 2.83L4 21.41c.39.39.9.59 1.41.59.51 0 1.02-.2 1.41-.59l7.78-7.78 2.81-2.81c.8-.78.8-2.07 0-2.86zM5.41 20L4 18.59l7.72-7.72 1.47 1.35L5.41 20z\"/>\n",
              "  </svg>\n",
              "      </button>\n",
              "      \n",
              "  <style>\n",
              "    .colab-df-container {\n",
              "      display:flex;\n",
              "      flex-wrap:wrap;\n",
              "      gap: 12px;\n",
              "    }\n",
              "\n",
              "    .colab-df-convert {\n",
              "      background-color: #E8F0FE;\n",
              "      border: none;\n",
              "      border-radius: 50%;\n",
              "      cursor: pointer;\n",
              "      display: none;\n",
              "      fill: #1967D2;\n",
              "      height: 32px;\n",
              "      padding: 0 0 0 0;\n",
              "      width: 32px;\n",
              "    }\n",
              "\n",
              "    .colab-df-convert:hover {\n",
              "      background-color: #E2EBFA;\n",
              "      box-shadow: 0px 1px 2px rgba(60, 64, 67, 0.3), 0px 1px 3px 1px rgba(60, 64, 67, 0.15);\n",
              "      fill: #174EA6;\n",
              "    }\n",
              "\n",
              "    [theme=dark] .colab-df-convert {\n",
              "      background-color: #3B4455;\n",
              "      fill: #D2E3FC;\n",
              "    }\n",
              "\n",
              "    [theme=dark] .colab-df-convert:hover {\n",
              "      background-color: #434B5C;\n",
              "      box-shadow: 0px 1px 3px 1px rgba(0, 0, 0, 0.15);\n",
              "      filter: drop-shadow(0px 1px 2px rgba(0, 0, 0, 0.3));\n",
              "      fill: #FFFFFF;\n",
              "    }\n",
              "  </style>\n",
              "\n",
              "      <script>\n",
              "        const buttonEl =\n",
              "          document.querySelector('#df-ef3d3a88-e0be-4b92-a9e4-dcfd11a7bea7 button.colab-df-convert');\n",
              "        buttonEl.style.display =\n",
              "          google.colab.kernel.accessAllowed ? 'block' : 'none';\n",
              "\n",
              "        async function convertToInteractive(key) {\n",
              "          const element = document.querySelector('#df-ef3d3a88-e0be-4b92-a9e4-dcfd11a7bea7');\n",
              "          const dataTable =\n",
              "            await google.colab.kernel.invokeFunction('convertToInteractive',\n",
              "                                                     [key], {});\n",
              "          if (!dataTable) return;\n",
              "\n",
              "          const docLinkHtml = 'Like what you see? Visit the ' +\n",
              "            '<a target=\"_blank\" href=https://colab.research.google.com/notebooks/data_table.ipynb>data table notebook</a>'\n",
              "            + ' to learn more about interactive tables.';\n",
              "          element.innerHTML = '';\n",
              "          dataTable['output_type'] = 'display_data';\n",
              "          await google.colab.output.renderOutput(dataTable, element);\n",
              "          const docLink = document.createElement('div');\n",
              "          docLink.innerHTML = docLinkHtml;\n",
              "          element.appendChild(docLink);\n",
              "        }\n",
              "      </script>\n",
              "    </div>\n",
              "  </div>\n",
              "  "
            ]
          },
          "metadata": {},
          "execution_count": 124
        }
      ]
    },
    {
      "cell_type": "markdown",
      "source": [
        "### Deriving a new feature: year of a game\n",
        "\n"
      ],
      "metadata": {
        "id": "WkTP0-1RFt1y"
      }
    },
    {
      "cell_type": "code",
      "source": [
        "games['year'] = games['title'].str[-6:].str.replace('(', '').str.replace(')', '')\n",
        "games['year'] = pd.to_numeric(games['year'])\n",
        "games.head()"
      ],
      "metadata": {
        "colab": {
          "base_uri": "https://localhost:8080/",
          "height": 261
        },
        "id": "zJw-kSehF2B5",
        "outputId": "008881b3-5134-4f9a-eb58-a6a1a8385bf1"
      },
      "execution_count": null,
      "outputs": [
        {
          "output_type": "stream",
          "name": "stderr",
          "text": [
            "/usr/local/lib/python3.7/dist-packages/ipykernel_launcher.py:1: FutureWarning: The default value of regex will change from True to False in a future version. In addition, single character regular expressions will *not* be treated as literal strings when regex=True.\n",
            "  \"\"\"Entry point for launching an IPython kernel.\n"
          ]
        },
        {
          "output_type": "execute_result",
          "data": {
            "text/plain": [
              "   game_id                 title                      genre  price  is_free  \\\n",
              "0        1        Terraria(2011)  Open World Survival Craft   9.99    False   \n",
              "1        2        Portal 2(2011)                 Platformer   9.99    False   \n",
              "2        3  Stardew Valley(2016)                Farming Sim  14.99    False   \n",
              "3        4           Hades(2020)           Action Roguelike  24.99    False   \n",
              "4        5   Left 4 Dead 2(2009)                    Zombies   9.99    False   \n",
              "\n",
              "   year  \n",
              "0  2011  \n",
              "1  2011  \n",
              "2  2016  \n",
              "3  2020  \n",
              "4  2009  "
            ],
            "text/html": [
              "\n",
              "  <div id=\"df-ed755920-b304-4baf-8f62-8cbda118c163\">\n",
              "    <div class=\"colab-df-container\">\n",
              "      <div>\n",
              "<style scoped>\n",
              "    .dataframe tbody tr th:only-of-type {\n",
              "        vertical-align: middle;\n",
              "    }\n",
              "\n",
              "    .dataframe tbody tr th {\n",
              "        vertical-align: top;\n",
              "    }\n",
              "\n",
              "    .dataframe thead th {\n",
              "        text-align: right;\n",
              "    }\n",
              "</style>\n",
              "<table border=\"1\" class=\"dataframe\">\n",
              "  <thead>\n",
              "    <tr style=\"text-align: right;\">\n",
              "      <th></th>\n",
              "      <th>game_id</th>\n",
              "      <th>title</th>\n",
              "      <th>genre</th>\n",
              "      <th>price</th>\n",
              "      <th>is_free</th>\n",
              "      <th>year</th>\n",
              "    </tr>\n",
              "  </thead>\n",
              "  <tbody>\n",
              "    <tr>\n",
              "      <th>0</th>\n",
              "      <td>1</td>\n",
              "      <td>Terraria(2011)</td>\n",
              "      <td>Open World Survival Craft</td>\n",
              "      <td>9.99</td>\n",
              "      <td>False</td>\n",
              "      <td>2011</td>\n",
              "    </tr>\n",
              "    <tr>\n",
              "      <th>1</th>\n",
              "      <td>2</td>\n",
              "      <td>Portal 2(2011)</td>\n",
              "      <td>Platformer</td>\n",
              "      <td>9.99</td>\n",
              "      <td>False</td>\n",
              "      <td>2011</td>\n",
              "    </tr>\n",
              "    <tr>\n",
              "      <th>2</th>\n",
              "      <td>3</td>\n",
              "      <td>Stardew Valley(2016)</td>\n",
              "      <td>Farming Sim</td>\n",
              "      <td>14.99</td>\n",
              "      <td>False</td>\n",
              "      <td>2016</td>\n",
              "    </tr>\n",
              "    <tr>\n",
              "      <th>3</th>\n",
              "      <td>4</td>\n",
              "      <td>Hades(2020)</td>\n",
              "      <td>Action Roguelike</td>\n",
              "      <td>24.99</td>\n",
              "      <td>False</td>\n",
              "      <td>2020</td>\n",
              "    </tr>\n",
              "    <tr>\n",
              "      <th>4</th>\n",
              "      <td>5</td>\n",
              "      <td>Left 4 Dead 2(2009)</td>\n",
              "      <td>Zombies</td>\n",
              "      <td>9.99</td>\n",
              "      <td>False</td>\n",
              "      <td>2009</td>\n",
              "    </tr>\n",
              "  </tbody>\n",
              "</table>\n",
              "</div>\n",
              "      <button class=\"colab-df-convert\" onclick=\"convertToInteractive('df-ed755920-b304-4baf-8f62-8cbda118c163')\"\n",
              "              title=\"Convert this dataframe to an interactive table.\"\n",
              "              style=\"display:none;\">\n",
              "        \n",
              "  <svg xmlns=\"http://www.w3.org/2000/svg\" height=\"24px\"viewBox=\"0 0 24 24\"\n",
              "       width=\"24px\">\n",
              "    <path d=\"M0 0h24v24H0V0z\" fill=\"none\"/>\n",
              "    <path d=\"M18.56 5.44l.94 2.06.94-2.06 2.06-.94-2.06-.94-.94-2.06-.94 2.06-2.06.94zm-11 1L8.5 8.5l.94-2.06 2.06-.94-2.06-.94L8.5 2.5l-.94 2.06-2.06.94zm10 10l.94 2.06.94-2.06 2.06-.94-2.06-.94-.94-2.06-.94 2.06-2.06.94z\"/><path d=\"M17.41 7.96l-1.37-1.37c-.4-.4-.92-.59-1.43-.59-.52 0-1.04.2-1.43.59L10.3 9.45l-7.72 7.72c-.78.78-.78 2.05 0 2.83L4 21.41c.39.39.9.59 1.41.59.51 0 1.02-.2 1.41-.59l7.78-7.78 2.81-2.81c.8-.78.8-2.07 0-2.86zM5.41 20L4 18.59l7.72-7.72 1.47 1.35L5.41 20z\"/>\n",
              "  </svg>\n",
              "      </button>\n",
              "      \n",
              "  <style>\n",
              "    .colab-df-container {\n",
              "      display:flex;\n",
              "      flex-wrap:wrap;\n",
              "      gap: 12px;\n",
              "    }\n",
              "\n",
              "    .colab-df-convert {\n",
              "      background-color: #E8F0FE;\n",
              "      border: none;\n",
              "      border-radius: 50%;\n",
              "      cursor: pointer;\n",
              "      display: none;\n",
              "      fill: #1967D2;\n",
              "      height: 32px;\n",
              "      padding: 0 0 0 0;\n",
              "      width: 32px;\n",
              "    }\n",
              "\n",
              "    .colab-df-convert:hover {\n",
              "      background-color: #E2EBFA;\n",
              "      box-shadow: 0px 1px 2px rgba(60, 64, 67, 0.3), 0px 1px 3px 1px rgba(60, 64, 67, 0.15);\n",
              "      fill: #174EA6;\n",
              "    }\n",
              "\n",
              "    [theme=dark] .colab-df-convert {\n",
              "      background-color: #3B4455;\n",
              "      fill: #D2E3FC;\n",
              "    }\n",
              "\n",
              "    [theme=dark] .colab-df-convert:hover {\n",
              "      background-color: #434B5C;\n",
              "      box-shadow: 0px 1px 3px 1px rgba(0, 0, 0, 0.15);\n",
              "      filter: drop-shadow(0px 1px 2px rgba(0, 0, 0, 0.3));\n",
              "      fill: #FFFFFF;\n",
              "    }\n",
              "  </style>\n",
              "\n",
              "      <script>\n",
              "        const buttonEl =\n",
              "          document.querySelector('#df-ed755920-b304-4baf-8f62-8cbda118c163 button.colab-df-convert');\n",
              "        buttonEl.style.display =\n",
              "          google.colab.kernel.accessAllowed ? 'block' : 'none';\n",
              "\n",
              "        async function convertToInteractive(key) {\n",
              "          const element = document.querySelector('#df-ed755920-b304-4baf-8f62-8cbda118c163');\n",
              "          const dataTable =\n",
              "            await google.colab.kernel.invokeFunction('convertToInteractive',\n",
              "                                                     [key], {});\n",
              "          if (!dataTable) return;\n",
              "\n",
              "          const docLinkHtml = 'Like what you see? Visit the ' +\n",
              "            '<a target=\"_blank\" href=https://colab.research.google.com/notebooks/data_table.ipynb>data table notebook</a>'\n",
              "            + ' to learn more about interactive tables.';\n",
              "          element.innerHTML = '';\n",
              "          dataTable['output_type'] = 'display_data';\n",
              "          await google.colab.output.renderOutput(dataTable, element);\n",
              "          const docLink = document.createElement('div');\n",
              "          docLink.innerHTML = docLinkHtml;\n",
              "          element.appendChild(docLink);\n",
              "        }\n",
              "      </script>\n",
              "    </div>\n",
              "  </div>\n",
              "  "
            ]
          },
          "metadata": {},
          "execution_count": 125
        }
      ]
    },
    {
      "cell_type": "code",
      "source": [
        "games.dtypes"
      ],
      "metadata": {
        "colab": {
          "base_uri": "https://localhost:8080/"
        },
        "id": "LT7ytVEBHmPm",
        "outputId": "f1d4952b-6e6f-4cdc-f32f-83ef3ffca6ba"
      },
      "execution_count": null,
      "outputs": [
        {
          "output_type": "execute_result",
          "data": {
            "text/plain": [
              "game_id      int64\n",
              "title       object\n",
              "genre       object\n",
              "price      float64\n",
              "is_free       bool\n",
              "year         int64\n",
              "dtype: object"
            ]
          },
          "metadata": {},
          "execution_count": 126
        }
      ]
    },
    {
      "cell_type": "markdown",
      "source": [
        "### Encoding the genre feature"
      ],
      "metadata": {
        "id": "Gt0gioOYLOE2"
      }
    },
    {
      "cell_type": "code",
      "source": [
        "games['genre'] = games['genre'].astype(str)\n",
        "genres = np.unique(games['genre'])\n",
        "print(f\"There are {len(genres)} genres in the dataset:\")\n",
        "genres"
      ],
      "metadata": {
        "id": "o11gD1xkBym6",
        "colab": {
          "base_uri": "https://localhost:8080/"
        },
        "outputId": "6c37577d-8ebd-4a6f-80f9-5cab191f239d"
      },
      "execution_count": null,
      "outputs": [
        {
          "output_type": "stream",
          "name": "stdout",
          "text": [
            "There are 93 genres in the dataset:\n"
          ]
        },
        {
          "output_type": "execute_result",
          "data": {
            "text/plain": [
              "array(['2D Fighter', '2D Platformer', 'Action', 'Action Roguelike',\n",
              "       'Adventure', 'America', 'Anime', 'Arena Shooter', 'Atmospheric',\n",
              "       'Automation', 'Automobile Sim', 'Base Building', 'Beautiful',\n",
              "       'Building', 'Bullet Hell', 'Capitalism', 'Card Battler', 'Casual',\n",
              "       'City Builder', 'Clicker', 'Co-op', 'Colony Sim', 'Comedy', 'Cute',\n",
              "       'Cyberpunk', 'Dating Sim', 'Destruction', 'Detective', 'Difficult',\n",
              "       'Emotional', 'Exploration', 'FPS', 'Farming Sim', 'Flight',\n",
              "       'Funny', 'Great Soundtrack', 'Hentai', 'Hero Shooter',\n",
              "       'Hidden Object', 'Horror', 'JRPG', 'LEGO', 'LGBTQ+', 'Loot',\n",
              "       'Management', 'Medieval', 'Metroidvania', 'Minimalist',\n",
              "       'Multiple Endings', 'Music', 'Mystery', 'Narrative', 'Nudity',\n",
              "       'Open World', 'Open World Survival Craft', 'Philosophical',\n",
              "       'Physics', 'Pixel Graphics', 'Platformer', 'Political',\n",
              "       'Precision Platformer', 'Psychedelic', 'Psychological Horror',\n",
              "       'Puzzle', 'Puzzle Platformer', 'RPG', 'Racing',\n",
              "       'Real Time Tactics', 'Relaxing', 'Rhythm', 'Robots', 'Roguelike',\n",
              "       'Roguelike Deckbuilder', 'Roguelite', 'Sandbox', 'Sexual Content',\n",
              "       'Shooter', 'Simulation', 'Singleplayer', 'Souls-like', 'Space',\n",
              "       'Stealth', 'Story Rich', 'Strategy', 'Survival', 'Survival Horror',\n",
              "       'Tactical RPG', 'Third-Person Shooter', 'Tower Defense',\n",
              "       'Transportation', 'Turn-Based Strategy', 'Visual Novel', 'Zombies'],\n",
              "      dtype=object)"
            ]
          },
          "metadata": {},
          "execution_count": 127
        }
      ]
    },
    {
      "cell_type": "markdown",
      "source": [
        "From above, we can conclude that (thanks God!) the genre values are \"atomic\", i.e. there are no combinations of genre for any game."
      ],
      "metadata": {
        "id": "kugDYFgUDk3K"
      }
    },
    {
      "cell_type": "markdown",
      "source": [
        "Let's take a look at the genres distribution:"
      ],
      "metadata": {
        "id": "fv-gbkZbDswQ"
      }
    },
    {
      "cell_type": "code",
      "source": [
        "print(\"Genres distribution:\")\n",
        "genre_counts = games['genre'].value_counts()\n",
        "print(genre_counts)"
      ],
      "metadata": {
        "colab": {
          "base_uri": "https://localhost:8080/"
        },
        "outputId": "9beb7755-b420-416a-f958-ccaea07d6d61",
        "id": "oUgJZhcWCx2F"
      },
      "execution_count": null,
      "outputs": [
        {
          "output_type": "stream",
          "name": "stdout",
          "text": [
            "Genres distribution:\n",
            "FPS                  15\n",
            "Action               12\n",
            "Puzzle               10\n",
            "Visual Novel          9\n",
            "Adventure             8\n",
            "                     ..\n",
            "LGBTQ+                1\n",
            "Survival Horror       1\n",
            "Roguelike             1\n",
            "City Builder          1\n",
            "Puzzle Platformer     1\n",
            "Name: genre, Length: 93, dtype: int64\n"
          ]
        }
      ]
    },
    {
      "cell_type": "markdown",
      "source": [
        "Let's now assign all the genres that are represented with **<= *rare_genre_limit*** games to the group of genre ***Rare***:"
      ],
      "metadata": {
        "id": "HDhXN5FGCx2F"
      }
    },
    {
      "cell_type": "code",
      "source": [
        "rare_genre_limit = 0\n",
        "rare_genre_counts = genre_counts[genre_counts <= rare_genre_limit]\n",
        "rare_genre_counts"
      ],
      "metadata": {
        "colab": {
          "base_uri": "https://localhost:8080/"
        },
        "id": "aktXV1yRDwh5",
        "outputId": "3336e4f8-b721-401d-f58e-d908e3b27124"
      },
      "execution_count": null,
      "outputs": [
        {
          "output_type": "execute_result",
          "data": {
            "text/plain": [
              "Series([], Name: genre, dtype: int64)"
            ]
          },
          "metadata": {},
          "execution_count": 129
        }
      ]
    },
    {
      "cell_type": "code",
      "source": [
        "rare_genres_list = list(rare_genre_counts.index)\n",
        "rare_genres_list"
      ],
      "metadata": {
        "colab": {
          "base_uri": "https://localhost:8080/"
        },
        "id": "_0CrPvCwFrva",
        "outputId": "a9d6eed4-9beb-4c1b-aa4f-446d65748bf5"
      },
      "execution_count": null,
      "outputs": [
        {
          "output_type": "execute_result",
          "data": {
            "text/plain": [
              "[]"
            ]
          },
          "metadata": {},
          "execution_count": 130
        }
      ]
    },
    {
      "cell_type": "code",
      "source": [
        "games.loc[games['genre'].isin(rare_genres_list), 'genre'] = 'Rare'"
      ],
      "metadata": {
        "id": "BpjNGyYCGscx"
      },
      "execution_count": null,
      "outputs": []
    },
    {
      "cell_type": "code",
      "source": [
        "print(\"New genres distribution:\")\n",
        "genre_counts = games['genre'].value_counts()\n",
        "print(genre_counts)"
      ],
      "metadata": {
        "colab": {
          "base_uri": "https://localhost:8080/"
        },
        "id": "8AbuIcPAIOk1",
        "outputId": "d4df3e72-94a4-46e5-c744-7407448b8e87"
      },
      "execution_count": null,
      "outputs": [
        {
          "output_type": "stream",
          "name": "stdout",
          "text": [
            "New genres distribution:\n",
            "FPS                  15\n",
            "Action               12\n",
            "Puzzle               10\n",
            "Visual Novel          9\n",
            "Adventure             8\n",
            "                     ..\n",
            "LGBTQ+                1\n",
            "Survival Horror       1\n",
            "Roguelike             1\n",
            "City Builder          1\n",
            "Puzzle Platformer     1\n",
            "Name: genre, Length: 93, dtype: int64\n"
          ]
        }
      ]
    },
    {
      "cell_type": "markdown",
      "source": [
        "Let's apply one-hot-encoding for the genres:"
      ],
      "metadata": {
        "id": "b7NIed3VQNX2"
      }
    },
    {
      "cell_type": "code",
      "source": [
        "from sklearn.preprocessing import LabelEncoder\n",
        "\n",
        "# map genres to numbers\n",
        "genre_le = LabelEncoder()\n",
        "genre_labels = genre_le.fit_transform(games['genre'])\n",
        "\n",
        "genre_mappings = {index: label for index, label in \n",
        "                  enumerate(genre_le.classes_)}\n",
        "n = 10\n",
        "print(f\"Some {n} elements from the genre mapping:\")\n",
        "{k: genre_mappings[k] for k in list(genre_mappings)[:n]}"
      ],
      "metadata": {
        "colab": {
          "base_uri": "https://localhost:8080/"
        },
        "id": "MKpgQzkcQjd_",
        "outputId": "3a5cb8f8-7263-4bc7-de26-6f1abcf14341"
      },
      "execution_count": null,
      "outputs": [
        {
          "output_type": "stream",
          "name": "stdout",
          "text": [
            "Some 10 elements from the genre mapping:\n"
          ]
        },
        {
          "output_type": "execute_result",
          "data": {
            "text/plain": [
              "{0: '2D Fighter',\n",
              " 1: '2D Platformer',\n",
              " 2: 'Action',\n",
              " 3: 'Action Roguelike',\n",
              " 4: 'Adventure',\n",
              " 5: 'America',\n",
              " 6: 'Anime',\n",
              " 7: 'Arena Shooter',\n",
              " 8: 'Atmospheric',\n",
              " 9: 'Automation'}"
            ]
          },
          "metadata": {},
          "execution_count": 133
        }
      ]
    },
    {
      "cell_type": "code",
      "source": [
        "games['genre_label'] = genre_labels\n",
        "games.head()"
      ],
      "metadata": {
        "colab": {
          "base_uri": "https://localhost:8080/",
          "height": 206
        },
        "id": "yNCgNf1PQ7jV",
        "outputId": "67dc0173-200f-4d9a-ae7f-064719e6139d"
      },
      "execution_count": null,
      "outputs": [
        {
          "output_type": "execute_result",
          "data": {
            "text/plain": [
              "   game_id                 title                      genre  price  is_free  \\\n",
              "0        1        Terraria(2011)  Open World Survival Craft   9.99    False   \n",
              "1        2        Portal 2(2011)                 Platformer   9.99    False   \n",
              "2        3  Stardew Valley(2016)                Farming Sim  14.99    False   \n",
              "3        4           Hades(2020)           Action Roguelike  24.99    False   \n",
              "4        5   Left 4 Dead 2(2009)                    Zombies   9.99    False   \n",
              "\n",
              "   year  genre_label  \n",
              "0  2011           54  \n",
              "1  2011           58  \n",
              "2  2016           32  \n",
              "3  2020            3  \n",
              "4  2009           92  "
            ],
            "text/html": [
              "\n",
              "  <div id=\"df-f59909e5-7d3a-4a90-b3cf-a31010e9ff58\">\n",
              "    <div class=\"colab-df-container\">\n",
              "      <div>\n",
              "<style scoped>\n",
              "    .dataframe tbody tr th:only-of-type {\n",
              "        vertical-align: middle;\n",
              "    }\n",
              "\n",
              "    .dataframe tbody tr th {\n",
              "        vertical-align: top;\n",
              "    }\n",
              "\n",
              "    .dataframe thead th {\n",
              "        text-align: right;\n",
              "    }\n",
              "</style>\n",
              "<table border=\"1\" class=\"dataframe\">\n",
              "  <thead>\n",
              "    <tr style=\"text-align: right;\">\n",
              "      <th></th>\n",
              "      <th>game_id</th>\n",
              "      <th>title</th>\n",
              "      <th>genre</th>\n",
              "      <th>price</th>\n",
              "      <th>is_free</th>\n",
              "      <th>year</th>\n",
              "      <th>genre_label</th>\n",
              "    </tr>\n",
              "  </thead>\n",
              "  <tbody>\n",
              "    <tr>\n",
              "      <th>0</th>\n",
              "      <td>1</td>\n",
              "      <td>Terraria(2011)</td>\n",
              "      <td>Open World Survival Craft</td>\n",
              "      <td>9.99</td>\n",
              "      <td>False</td>\n",
              "      <td>2011</td>\n",
              "      <td>54</td>\n",
              "    </tr>\n",
              "    <tr>\n",
              "      <th>1</th>\n",
              "      <td>2</td>\n",
              "      <td>Portal 2(2011)</td>\n",
              "      <td>Platformer</td>\n",
              "      <td>9.99</td>\n",
              "      <td>False</td>\n",
              "      <td>2011</td>\n",
              "      <td>58</td>\n",
              "    </tr>\n",
              "    <tr>\n",
              "      <th>2</th>\n",
              "      <td>3</td>\n",
              "      <td>Stardew Valley(2016)</td>\n",
              "      <td>Farming Sim</td>\n",
              "      <td>14.99</td>\n",
              "      <td>False</td>\n",
              "      <td>2016</td>\n",
              "      <td>32</td>\n",
              "    </tr>\n",
              "    <tr>\n",
              "      <th>3</th>\n",
              "      <td>4</td>\n",
              "      <td>Hades(2020)</td>\n",
              "      <td>Action Roguelike</td>\n",
              "      <td>24.99</td>\n",
              "      <td>False</td>\n",
              "      <td>2020</td>\n",
              "      <td>3</td>\n",
              "    </tr>\n",
              "    <tr>\n",
              "      <th>4</th>\n",
              "      <td>5</td>\n",
              "      <td>Left 4 Dead 2(2009)</td>\n",
              "      <td>Zombies</td>\n",
              "      <td>9.99</td>\n",
              "      <td>False</td>\n",
              "      <td>2009</td>\n",
              "      <td>92</td>\n",
              "    </tr>\n",
              "  </tbody>\n",
              "</table>\n",
              "</div>\n",
              "      <button class=\"colab-df-convert\" onclick=\"convertToInteractive('df-f59909e5-7d3a-4a90-b3cf-a31010e9ff58')\"\n",
              "              title=\"Convert this dataframe to an interactive table.\"\n",
              "              style=\"display:none;\">\n",
              "        \n",
              "  <svg xmlns=\"http://www.w3.org/2000/svg\" height=\"24px\"viewBox=\"0 0 24 24\"\n",
              "       width=\"24px\">\n",
              "    <path d=\"M0 0h24v24H0V0z\" fill=\"none\"/>\n",
              "    <path d=\"M18.56 5.44l.94 2.06.94-2.06 2.06-.94-2.06-.94-.94-2.06-.94 2.06-2.06.94zm-11 1L8.5 8.5l.94-2.06 2.06-.94-2.06-.94L8.5 2.5l-.94 2.06-2.06.94zm10 10l.94 2.06.94-2.06 2.06-.94-2.06-.94-.94-2.06-.94 2.06-2.06.94z\"/><path d=\"M17.41 7.96l-1.37-1.37c-.4-.4-.92-.59-1.43-.59-.52 0-1.04.2-1.43.59L10.3 9.45l-7.72 7.72c-.78.78-.78 2.05 0 2.83L4 21.41c.39.39.9.59 1.41.59.51 0 1.02-.2 1.41-.59l7.78-7.78 2.81-2.81c.8-.78.8-2.07 0-2.86zM5.41 20L4 18.59l7.72-7.72 1.47 1.35L5.41 20z\"/>\n",
              "  </svg>\n",
              "      </button>\n",
              "      \n",
              "  <style>\n",
              "    .colab-df-container {\n",
              "      display:flex;\n",
              "      flex-wrap:wrap;\n",
              "      gap: 12px;\n",
              "    }\n",
              "\n",
              "    .colab-df-convert {\n",
              "      background-color: #E8F0FE;\n",
              "      border: none;\n",
              "      border-radius: 50%;\n",
              "      cursor: pointer;\n",
              "      display: none;\n",
              "      fill: #1967D2;\n",
              "      height: 32px;\n",
              "      padding: 0 0 0 0;\n",
              "      width: 32px;\n",
              "    }\n",
              "\n",
              "    .colab-df-convert:hover {\n",
              "      background-color: #E2EBFA;\n",
              "      box-shadow: 0px 1px 2px rgba(60, 64, 67, 0.3), 0px 1px 3px 1px rgba(60, 64, 67, 0.15);\n",
              "      fill: #174EA6;\n",
              "    }\n",
              "\n",
              "    [theme=dark] .colab-df-convert {\n",
              "      background-color: #3B4455;\n",
              "      fill: #D2E3FC;\n",
              "    }\n",
              "\n",
              "    [theme=dark] .colab-df-convert:hover {\n",
              "      background-color: #434B5C;\n",
              "      box-shadow: 0px 1px 3px 1px rgba(0, 0, 0, 0.15);\n",
              "      filter: drop-shadow(0px 1px 2px rgba(0, 0, 0, 0.3));\n",
              "      fill: #FFFFFF;\n",
              "    }\n",
              "  </style>\n",
              "\n",
              "      <script>\n",
              "        const buttonEl =\n",
              "          document.querySelector('#df-f59909e5-7d3a-4a90-b3cf-a31010e9ff58 button.colab-df-convert');\n",
              "        buttonEl.style.display =\n",
              "          google.colab.kernel.accessAllowed ? 'block' : 'none';\n",
              "\n",
              "        async function convertToInteractive(key) {\n",
              "          const element = document.querySelector('#df-f59909e5-7d3a-4a90-b3cf-a31010e9ff58');\n",
              "          const dataTable =\n",
              "            await google.colab.kernel.invokeFunction('convertToInteractive',\n",
              "                                                     [key], {});\n",
              "          if (!dataTable) return;\n",
              "\n",
              "          const docLinkHtml = 'Like what you see? Visit the ' +\n",
              "            '<a target=\"_blank\" href=https://colab.research.google.com/notebooks/data_table.ipynb>data table notebook</a>'\n",
              "            + ' to learn more about interactive tables.';\n",
              "          element.innerHTML = '';\n",
              "          dataTable['output_type'] = 'display_data';\n",
              "          await google.colab.output.renderOutput(dataTable, element);\n",
              "          const docLink = document.createElement('div');\n",
              "          docLink.innerHTML = docLinkHtml;\n",
              "          element.appendChild(docLink);\n",
              "        }\n",
              "      </script>\n",
              "    </div>\n",
              "  </div>\n",
              "  "
            ]
          },
          "metadata": {},
          "execution_count": 134
        }
      ]
    },
    {
      "cell_type": "code",
      "source": [
        "games['genre_label'].dtype"
      ],
      "metadata": {
        "colab": {
          "base_uri": "https://localhost:8080/"
        },
        "id": "BQinZXVvSttc",
        "outputId": "0508ebe1-c4e3-4aa5-d814-4f8087113223"
      },
      "execution_count": null,
      "outputs": [
        {
          "output_type": "execute_result",
          "data": {
            "text/plain": [
              "dtype('int64')"
            ]
          },
          "metadata": {},
          "execution_count": 135
        }
      ]
    },
    {
      "cell_type": "code",
      "source": [
        "from sklearn.preprocessing import OneHotEncoder\n",
        "\n",
        "# one-hot-encoding of genres\n",
        "genre_ohe = OneHotEncoder()\n",
        "genre_feature_arr = genre_ohe.fit_transform(games[['genre_label']]).toarray()\n",
        "genre_feature_labels = list(genre_le.classes_)\n",
        "\n",
        "genre_features = pd.DataFrame(genre_feature_arr, columns=genre_feature_labels)\n",
        "genre_features = genre_features.astype('int32')\n",
        "\n",
        "games_genre_ohe_cols = list(genre_features.columns)\n",
        "\n",
        "genre_features.head()"
      ],
      "metadata": {
        "colab": {
          "base_uri": "https://localhost:8080/",
          "height": 334
        },
        "id": "ZMSEFYsE9dPk",
        "outputId": "c206ae48-0314-42d2-f44b-ca0d63a177c5"
      },
      "execution_count": null,
      "outputs": [
        {
          "output_type": "execute_result",
          "data": {
            "text/plain": [
              "   2D Fighter  2D Platformer  Action  Action Roguelike  Adventure  America  \\\n",
              "0           0              0       0                 0          0        0   \n",
              "1           0              0       0                 0          0        0   \n",
              "2           0              0       0                 0          0        0   \n",
              "3           0              0       0                 1          0        0   \n",
              "4           0              0       0                 0          0        0   \n",
              "\n",
              "   Anime  Arena Shooter  Atmospheric  Automation  ...  Strategy  Survival  \\\n",
              "0      0              0            0           0  ...         0         0   \n",
              "1      0              0            0           0  ...         0         0   \n",
              "2      0              0            0           0  ...         0         0   \n",
              "3      0              0            0           0  ...         0         0   \n",
              "4      0              0            0           0  ...         0         0   \n",
              "\n",
              "   Survival Horror  Tactical RPG  Third-Person Shooter  Tower Defense  \\\n",
              "0                0             0                     0              0   \n",
              "1                0             0                     0              0   \n",
              "2                0             0                     0              0   \n",
              "3                0             0                     0              0   \n",
              "4                0             0                     0              0   \n",
              "\n",
              "   Transportation  Turn-Based Strategy  Visual Novel  Zombies  \n",
              "0               0                    0             0        0  \n",
              "1               0                    0             0        0  \n",
              "2               0                    0             0        0  \n",
              "3               0                    0             0        0  \n",
              "4               0                    0             0        1  \n",
              "\n",
              "[5 rows x 93 columns]"
            ],
            "text/html": [
              "\n",
              "  <div id=\"df-e50b70e9-b2a2-40eb-b4bf-95686935a048\">\n",
              "    <div class=\"colab-df-container\">\n",
              "      <div>\n",
              "<style scoped>\n",
              "    .dataframe tbody tr th:only-of-type {\n",
              "        vertical-align: middle;\n",
              "    }\n",
              "\n",
              "    .dataframe tbody tr th {\n",
              "        vertical-align: top;\n",
              "    }\n",
              "\n",
              "    .dataframe thead th {\n",
              "        text-align: right;\n",
              "    }\n",
              "</style>\n",
              "<table border=\"1\" class=\"dataframe\">\n",
              "  <thead>\n",
              "    <tr style=\"text-align: right;\">\n",
              "      <th></th>\n",
              "      <th>2D Fighter</th>\n",
              "      <th>2D Platformer</th>\n",
              "      <th>Action</th>\n",
              "      <th>Action Roguelike</th>\n",
              "      <th>Adventure</th>\n",
              "      <th>America</th>\n",
              "      <th>Anime</th>\n",
              "      <th>Arena Shooter</th>\n",
              "      <th>Atmospheric</th>\n",
              "      <th>Automation</th>\n",
              "      <th>...</th>\n",
              "      <th>Strategy</th>\n",
              "      <th>Survival</th>\n",
              "      <th>Survival Horror</th>\n",
              "      <th>Tactical RPG</th>\n",
              "      <th>Third-Person Shooter</th>\n",
              "      <th>Tower Defense</th>\n",
              "      <th>Transportation</th>\n",
              "      <th>Turn-Based Strategy</th>\n",
              "      <th>Visual Novel</th>\n",
              "      <th>Zombies</th>\n",
              "    </tr>\n",
              "  </thead>\n",
              "  <tbody>\n",
              "    <tr>\n",
              "      <th>0</th>\n",
              "      <td>0</td>\n",
              "      <td>0</td>\n",
              "      <td>0</td>\n",
              "      <td>0</td>\n",
              "      <td>0</td>\n",
              "      <td>0</td>\n",
              "      <td>0</td>\n",
              "      <td>0</td>\n",
              "      <td>0</td>\n",
              "      <td>0</td>\n",
              "      <td>...</td>\n",
              "      <td>0</td>\n",
              "      <td>0</td>\n",
              "      <td>0</td>\n",
              "      <td>0</td>\n",
              "      <td>0</td>\n",
              "      <td>0</td>\n",
              "      <td>0</td>\n",
              "      <td>0</td>\n",
              "      <td>0</td>\n",
              "      <td>0</td>\n",
              "    </tr>\n",
              "    <tr>\n",
              "      <th>1</th>\n",
              "      <td>0</td>\n",
              "      <td>0</td>\n",
              "      <td>0</td>\n",
              "      <td>0</td>\n",
              "      <td>0</td>\n",
              "      <td>0</td>\n",
              "      <td>0</td>\n",
              "      <td>0</td>\n",
              "      <td>0</td>\n",
              "      <td>0</td>\n",
              "      <td>...</td>\n",
              "      <td>0</td>\n",
              "      <td>0</td>\n",
              "      <td>0</td>\n",
              "      <td>0</td>\n",
              "      <td>0</td>\n",
              "      <td>0</td>\n",
              "      <td>0</td>\n",
              "      <td>0</td>\n",
              "      <td>0</td>\n",
              "      <td>0</td>\n",
              "    </tr>\n",
              "    <tr>\n",
              "      <th>2</th>\n",
              "      <td>0</td>\n",
              "      <td>0</td>\n",
              "      <td>0</td>\n",
              "      <td>0</td>\n",
              "      <td>0</td>\n",
              "      <td>0</td>\n",
              "      <td>0</td>\n",
              "      <td>0</td>\n",
              "      <td>0</td>\n",
              "      <td>0</td>\n",
              "      <td>...</td>\n",
              "      <td>0</td>\n",
              "      <td>0</td>\n",
              "      <td>0</td>\n",
              "      <td>0</td>\n",
              "      <td>0</td>\n",
              "      <td>0</td>\n",
              "      <td>0</td>\n",
              "      <td>0</td>\n",
              "      <td>0</td>\n",
              "      <td>0</td>\n",
              "    </tr>\n",
              "    <tr>\n",
              "      <th>3</th>\n",
              "      <td>0</td>\n",
              "      <td>0</td>\n",
              "      <td>0</td>\n",
              "      <td>1</td>\n",
              "      <td>0</td>\n",
              "      <td>0</td>\n",
              "      <td>0</td>\n",
              "      <td>0</td>\n",
              "      <td>0</td>\n",
              "      <td>0</td>\n",
              "      <td>...</td>\n",
              "      <td>0</td>\n",
              "      <td>0</td>\n",
              "      <td>0</td>\n",
              "      <td>0</td>\n",
              "      <td>0</td>\n",
              "      <td>0</td>\n",
              "      <td>0</td>\n",
              "      <td>0</td>\n",
              "      <td>0</td>\n",
              "      <td>0</td>\n",
              "    </tr>\n",
              "    <tr>\n",
              "      <th>4</th>\n",
              "      <td>0</td>\n",
              "      <td>0</td>\n",
              "      <td>0</td>\n",
              "      <td>0</td>\n",
              "      <td>0</td>\n",
              "      <td>0</td>\n",
              "      <td>0</td>\n",
              "      <td>0</td>\n",
              "      <td>0</td>\n",
              "      <td>0</td>\n",
              "      <td>...</td>\n",
              "      <td>0</td>\n",
              "      <td>0</td>\n",
              "      <td>0</td>\n",
              "      <td>0</td>\n",
              "      <td>0</td>\n",
              "      <td>0</td>\n",
              "      <td>0</td>\n",
              "      <td>0</td>\n",
              "      <td>0</td>\n",
              "      <td>1</td>\n",
              "    </tr>\n",
              "  </tbody>\n",
              "</table>\n",
              "<p>5 rows × 93 columns</p>\n",
              "</div>\n",
              "      <button class=\"colab-df-convert\" onclick=\"convertToInteractive('df-e50b70e9-b2a2-40eb-b4bf-95686935a048')\"\n",
              "              title=\"Convert this dataframe to an interactive table.\"\n",
              "              style=\"display:none;\">\n",
              "        \n",
              "  <svg xmlns=\"http://www.w3.org/2000/svg\" height=\"24px\"viewBox=\"0 0 24 24\"\n",
              "       width=\"24px\">\n",
              "    <path d=\"M0 0h24v24H0V0z\" fill=\"none\"/>\n",
              "    <path d=\"M18.56 5.44l.94 2.06.94-2.06 2.06-.94-2.06-.94-.94-2.06-.94 2.06-2.06.94zm-11 1L8.5 8.5l.94-2.06 2.06-.94-2.06-.94L8.5 2.5l-.94 2.06-2.06.94zm10 10l.94 2.06.94-2.06 2.06-.94-2.06-.94-.94-2.06-.94 2.06-2.06.94z\"/><path d=\"M17.41 7.96l-1.37-1.37c-.4-.4-.92-.59-1.43-.59-.52 0-1.04.2-1.43.59L10.3 9.45l-7.72 7.72c-.78.78-.78 2.05 0 2.83L4 21.41c.39.39.9.59 1.41.59.51 0 1.02-.2 1.41-.59l7.78-7.78 2.81-2.81c.8-.78.8-2.07 0-2.86zM5.41 20L4 18.59l7.72-7.72 1.47 1.35L5.41 20z\"/>\n",
              "  </svg>\n",
              "      </button>\n",
              "      \n",
              "  <style>\n",
              "    .colab-df-container {\n",
              "      display:flex;\n",
              "      flex-wrap:wrap;\n",
              "      gap: 12px;\n",
              "    }\n",
              "\n",
              "    .colab-df-convert {\n",
              "      background-color: #E8F0FE;\n",
              "      border: none;\n",
              "      border-radius: 50%;\n",
              "      cursor: pointer;\n",
              "      display: none;\n",
              "      fill: #1967D2;\n",
              "      height: 32px;\n",
              "      padding: 0 0 0 0;\n",
              "      width: 32px;\n",
              "    }\n",
              "\n",
              "    .colab-df-convert:hover {\n",
              "      background-color: #E2EBFA;\n",
              "      box-shadow: 0px 1px 2px rgba(60, 64, 67, 0.3), 0px 1px 3px 1px rgba(60, 64, 67, 0.15);\n",
              "      fill: #174EA6;\n",
              "    }\n",
              "\n",
              "    [theme=dark] .colab-df-convert {\n",
              "      background-color: #3B4455;\n",
              "      fill: #D2E3FC;\n",
              "    }\n",
              "\n",
              "    [theme=dark] .colab-df-convert:hover {\n",
              "      background-color: #434B5C;\n",
              "      box-shadow: 0px 1px 3px 1px rgba(0, 0, 0, 0.15);\n",
              "      filter: drop-shadow(0px 1px 2px rgba(0, 0, 0, 0.3));\n",
              "      fill: #FFFFFF;\n",
              "    }\n",
              "  </style>\n",
              "\n",
              "      <script>\n",
              "        const buttonEl =\n",
              "          document.querySelector('#df-e50b70e9-b2a2-40eb-b4bf-95686935a048 button.colab-df-convert');\n",
              "        buttonEl.style.display =\n",
              "          google.colab.kernel.accessAllowed ? 'block' : 'none';\n",
              "\n",
              "        async function convertToInteractive(key) {\n",
              "          const element = document.querySelector('#df-e50b70e9-b2a2-40eb-b4bf-95686935a048');\n",
              "          const dataTable =\n",
              "            await google.colab.kernel.invokeFunction('convertToInteractive',\n",
              "                                                     [key], {});\n",
              "          if (!dataTable) return;\n",
              "\n",
              "          const docLinkHtml = 'Like what you see? Visit the ' +\n",
              "            '<a target=\"_blank\" href=https://colab.research.google.com/notebooks/data_table.ipynb>data table notebook</a>'\n",
              "            + ' to learn more about interactive tables.';\n",
              "          element.innerHTML = '';\n",
              "          dataTable['output_type'] = 'display_data';\n",
              "          await google.colab.output.renderOutput(dataTable, element);\n",
              "          const docLink = document.createElement('div');\n",
              "          docLink.innerHTML = docLinkHtml;\n",
              "          element.appendChild(docLink);\n",
              "        }\n",
              "      </script>\n",
              "    </div>\n",
              "  </div>\n",
              "  "
            ]
          },
          "metadata": {},
          "execution_count": 136
        }
      ]
    },
    {
      "cell_type": "code",
      "source": [
        "games = pd.concat([games, genre_features], axis=1)\n",
        "games.head()"
      ],
      "metadata": {
        "colab": {
          "base_uri": "https://localhost:8080/",
          "height": 456
        },
        "id": "mR0fP_4j_bb2",
        "outputId": "8986fb48-959c-41ee-8228-300dd7e75ef6"
      },
      "execution_count": null,
      "outputs": [
        {
          "output_type": "execute_result",
          "data": {
            "text/plain": [
              "   game_id                 title                      genre  price  is_free  \\\n",
              "0        1        Terraria(2011)  Open World Survival Craft   9.99    False   \n",
              "1        2        Portal 2(2011)                 Platformer   9.99    False   \n",
              "2        3  Stardew Valley(2016)                Farming Sim  14.99    False   \n",
              "3        4           Hades(2020)           Action Roguelike  24.99    False   \n",
              "4        5   Left 4 Dead 2(2009)                    Zombies   9.99    False   \n",
              "\n",
              "   year  genre_label  2D Fighter  2D Platformer  Action  ...  Strategy  \\\n",
              "0  2011           54           0              0       0  ...         0   \n",
              "1  2011           58           0              0       0  ...         0   \n",
              "2  2016           32           0              0       0  ...         0   \n",
              "3  2020            3           0              0       0  ...         0   \n",
              "4  2009           92           0              0       0  ...         0   \n",
              "\n",
              "   Survival  Survival Horror  Tactical RPG  Third-Person Shooter  \\\n",
              "0         0                0             0                     0   \n",
              "1         0                0             0                     0   \n",
              "2         0                0             0                     0   \n",
              "3         0                0             0                     0   \n",
              "4         0                0             0                     0   \n",
              "\n",
              "   Tower Defense  Transportation  Turn-Based Strategy  Visual Novel  Zombies  \n",
              "0              0               0                    0             0        0  \n",
              "1              0               0                    0             0        0  \n",
              "2              0               0                    0             0        0  \n",
              "3              0               0                    0             0        0  \n",
              "4              0               0                    0             0        1  \n",
              "\n",
              "[5 rows x 100 columns]"
            ],
            "text/html": [
              "\n",
              "  <div id=\"df-a9703250-6973-4dc5-a669-e1bbfaa32011\">\n",
              "    <div class=\"colab-df-container\">\n",
              "      <div>\n",
              "<style scoped>\n",
              "    .dataframe tbody tr th:only-of-type {\n",
              "        vertical-align: middle;\n",
              "    }\n",
              "\n",
              "    .dataframe tbody tr th {\n",
              "        vertical-align: top;\n",
              "    }\n",
              "\n",
              "    .dataframe thead th {\n",
              "        text-align: right;\n",
              "    }\n",
              "</style>\n",
              "<table border=\"1\" class=\"dataframe\">\n",
              "  <thead>\n",
              "    <tr style=\"text-align: right;\">\n",
              "      <th></th>\n",
              "      <th>game_id</th>\n",
              "      <th>title</th>\n",
              "      <th>genre</th>\n",
              "      <th>price</th>\n",
              "      <th>is_free</th>\n",
              "      <th>year</th>\n",
              "      <th>genre_label</th>\n",
              "      <th>2D Fighter</th>\n",
              "      <th>2D Platformer</th>\n",
              "      <th>Action</th>\n",
              "      <th>...</th>\n",
              "      <th>Strategy</th>\n",
              "      <th>Survival</th>\n",
              "      <th>Survival Horror</th>\n",
              "      <th>Tactical RPG</th>\n",
              "      <th>Third-Person Shooter</th>\n",
              "      <th>Tower Defense</th>\n",
              "      <th>Transportation</th>\n",
              "      <th>Turn-Based Strategy</th>\n",
              "      <th>Visual Novel</th>\n",
              "      <th>Zombies</th>\n",
              "    </tr>\n",
              "  </thead>\n",
              "  <tbody>\n",
              "    <tr>\n",
              "      <th>0</th>\n",
              "      <td>1</td>\n",
              "      <td>Terraria(2011)</td>\n",
              "      <td>Open World Survival Craft</td>\n",
              "      <td>9.99</td>\n",
              "      <td>False</td>\n",
              "      <td>2011</td>\n",
              "      <td>54</td>\n",
              "      <td>0</td>\n",
              "      <td>0</td>\n",
              "      <td>0</td>\n",
              "      <td>...</td>\n",
              "      <td>0</td>\n",
              "      <td>0</td>\n",
              "      <td>0</td>\n",
              "      <td>0</td>\n",
              "      <td>0</td>\n",
              "      <td>0</td>\n",
              "      <td>0</td>\n",
              "      <td>0</td>\n",
              "      <td>0</td>\n",
              "      <td>0</td>\n",
              "    </tr>\n",
              "    <tr>\n",
              "      <th>1</th>\n",
              "      <td>2</td>\n",
              "      <td>Portal 2(2011)</td>\n",
              "      <td>Platformer</td>\n",
              "      <td>9.99</td>\n",
              "      <td>False</td>\n",
              "      <td>2011</td>\n",
              "      <td>58</td>\n",
              "      <td>0</td>\n",
              "      <td>0</td>\n",
              "      <td>0</td>\n",
              "      <td>...</td>\n",
              "      <td>0</td>\n",
              "      <td>0</td>\n",
              "      <td>0</td>\n",
              "      <td>0</td>\n",
              "      <td>0</td>\n",
              "      <td>0</td>\n",
              "      <td>0</td>\n",
              "      <td>0</td>\n",
              "      <td>0</td>\n",
              "      <td>0</td>\n",
              "    </tr>\n",
              "    <tr>\n",
              "      <th>2</th>\n",
              "      <td>3</td>\n",
              "      <td>Stardew Valley(2016)</td>\n",
              "      <td>Farming Sim</td>\n",
              "      <td>14.99</td>\n",
              "      <td>False</td>\n",
              "      <td>2016</td>\n",
              "      <td>32</td>\n",
              "      <td>0</td>\n",
              "      <td>0</td>\n",
              "      <td>0</td>\n",
              "      <td>...</td>\n",
              "      <td>0</td>\n",
              "      <td>0</td>\n",
              "      <td>0</td>\n",
              "      <td>0</td>\n",
              "      <td>0</td>\n",
              "      <td>0</td>\n",
              "      <td>0</td>\n",
              "      <td>0</td>\n",
              "      <td>0</td>\n",
              "      <td>0</td>\n",
              "    </tr>\n",
              "    <tr>\n",
              "      <th>3</th>\n",
              "      <td>4</td>\n",
              "      <td>Hades(2020)</td>\n",
              "      <td>Action Roguelike</td>\n",
              "      <td>24.99</td>\n",
              "      <td>False</td>\n",
              "      <td>2020</td>\n",
              "      <td>3</td>\n",
              "      <td>0</td>\n",
              "      <td>0</td>\n",
              "      <td>0</td>\n",
              "      <td>...</td>\n",
              "      <td>0</td>\n",
              "      <td>0</td>\n",
              "      <td>0</td>\n",
              "      <td>0</td>\n",
              "      <td>0</td>\n",
              "      <td>0</td>\n",
              "      <td>0</td>\n",
              "      <td>0</td>\n",
              "      <td>0</td>\n",
              "      <td>0</td>\n",
              "    </tr>\n",
              "    <tr>\n",
              "      <th>4</th>\n",
              "      <td>5</td>\n",
              "      <td>Left 4 Dead 2(2009)</td>\n",
              "      <td>Zombies</td>\n",
              "      <td>9.99</td>\n",
              "      <td>False</td>\n",
              "      <td>2009</td>\n",
              "      <td>92</td>\n",
              "      <td>0</td>\n",
              "      <td>0</td>\n",
              "      <td>0</td>\n",
              "      <td>...</td>\n",
              "      <td>0</td>\n",
              "      <td>0</td>\n",
              "      <td>0</td>\n",
              "      <td>0</td>\n",
              "      <td>0</td>\n",
              "      <td>0</td>\n",
              "      <td>0</td>\n",
              "      <td>0</td>\n",
              "      <td>0</td>\n",
              "      <td>1</td>\n",
              "    </tr>\n",
              "  </tbody>\n",
              "</table>\n",
              "<p>5 rows × 100 columns</p>\n",
              "</div>\n",
              "      <button class=\"colab-df-convert\" onclick=\"convertToInteractive('df-a9703250-6973-4dc5-a669-e1bbfaa32011')\"\n",
              "              title=\"Convert this dataframe to an interactive table.\"\n",
              "              style=\"display:none;\">\n",
              "        \n",
              "  <svg xmlns=\"http://www.w3.org/2000/svg\" height=\"24px\"viewBox=\"0 0 24 24\"\n",
              "       width=\"24px\">\n",
              "    <path d=\"M0 0h24v24H0V0z\" fill=\"none\"/>\n",
              "    <path d=\"M18.56 5.44l.94 2.06.94-2.06 2.06-.94-2.06-.94-.94-2.06-.94 2.06-2.06.94zm-11 1L8.5 8.5l.94-2.06 2.06-.94-2.06-.94L8.5 2.5l-.94 2.06-2.06.94zm10 10l.94 2.06.94-2.06 2.06-.94-2.06-.94-.94-2.06-.94 2.06-2.06.94z\"/><path d=\"M17.41 7.96l-1.37-1.37c-.4-.4-.92-.59-1.43-.59-.52 0-1.04.2-1.43.59L10.3 9.45l-7.72 7.72c-.78.78-.78 2.05 0 2.83L4 21.41c.39.39.9.59 1.41.59.51 0 1.02-.2 1.41-.59l7.78-7.78 2.81-2.81c.8-.78.8-2.07 0-2.86zM5.41 20L4 18.59l7.72-7.72 1.47 1.35L5.41 20z\"/>\n",
              "  </svg>\n",
              "      </button>\n",
              "      \n",
              "  <style>\n",
              "    .colab-df-container {\n",
              "      display:flex;\n",
              "      flex-wrap:wrap;\n",
              "      gap: 12px;\n",
              "    }\n",
              "\n",
              "    .colab-df-convert {\n",
              "      background-color: #E8F0FE;\n",
              "      border: none;\n",
              "      border-radius: 50%;\n",
              "      cursor: pointer;\n",
              "      display: none;\n",
              "      fill: #1967D2;\n",
              "      height: 32px;\n",
              "      padding: 0 0 0 0;\n",
              "      width: 32px;\n",
              "    }\n",
              "\n",
              "    .colab-df-convert:hover {\n",
              "      background-color: #E2EBFA;\n",
              "      box-shadow: 0px 1px 2px rgba(60, 64, 67, 0.3), 0px 1px 3px 1px rgba(60, 64, 67, 0.15);\n",
              "      fill: #174EA6;\n",
              "    }\n",
              "\n",
              "    [theme=dark] .colab-df-convert {\n",
              "      background-color: #3B4455;\n",
              "      fill: #D2E3FC;\n",
              "    }\n",
              "\n",
              "    [theme=dark] .colab-df-convert:hover {\n",
              "      background-color: #434B5C;\n",
              "      box-shadow: 0px 1px 3px 1px rgba(0, 0, 0, 0.15);\n",
              "      filter: drop-shadow(0px 1px 2px rgba(0, 0, 0, 0.3));\n",
              "      fill: #FFFFFF;\n",
              "    }\n",
              "  </style>\n",
              "\n",
              "      <script>\n",
              "        const buttonEl =\n",
              "          document.querySelector('#df-a9703250-6973-4dc5-a669-e1bbfaa32011 button.colab-df-convert');\n",
              "        buttonEl.style.display =\n",
              "          google.colab.kernel.accessAllowed ? 'block' : 'none';\n",
              "\n",
              "        async function convertToInteractive(key) {\n",
              "          const element = document.querySelector('#df-a9703250-6973-4dc5-a669-e1bbfaa32011');\n",
              "          const dataTable =\n",
              "            await google.colab.kernel.invokeFunction('convertToInteractive',\n",
              "                                                     [key], {});\n",
              "          if (!dataTable) return;\n",
              "\n",
              "          const docLinkHtml = 'Like what you see? Visit the ' +\n",
              "            '<a target=\"_blank\" href=https://colab.research.google.com/notebooks/data_table.ipynb>data table notebook</a>'\n",
              "            + ' to learn more about interactive tables.';\n",
              "          element.innerHTML = '';\n",
              "          dataTable['output_type'] = 'display_data';\n",
              "          await google.colab.output.renderOutput(dataTable, element);\n",
              "          const docLink = document.createElement('div');\n",
              "          docLink.innerHTML = docLinkHtml;\n",
              "          element.appendChild(docLink);\n",
              "        }\n",
              "      </script>\n",
              "    </div>\n",
              "  </div>\n",
              "  "
            ]
          },
          "metadata": {},
          "execution_count": 137
        }
      ]
    },
    {
      "cell_type": "code",
      "source": [
        "games.columns"
      ],
      "metadata": {
        "colab": {
          "base_uri": "https://localhost:8080/"
        },
        "id": "ZGRwABMSDPnt",
        "outputId": "5a9c5529-46e2-452c-ff36-41ad398c68ec"
      },
      "execution_count": null,
      "outputs": [
        {
          "output_type": "execute_result",
          "data": {
            "text/plain": [
              "Index(['game_id', 'title', 'genre', 'price', 'is_free', 'year', 'genre_label',\n",
              "       '2D Fighter', '2D Platformer', 'Action', 'Action Roguelike',\n",
              "       'Adventure', 'America', 'Anime', 'Arena Shooter', 'Atmospheric',\n",
              "       'Automation', 'Automobile Sim', 'Base Building', 'Beautiful',\n",
              "       'Building', 'Bullet Hell', 'Capitalism', 'Card Battler', 'Casual',\n",
              "       'City Builder', 'Clicker', 'Co-op', 'Colony Sim', 'Comedy', 'Cute',\n",
              "       'Cyberpunk', 'Dating Sim', 'Destruction', 'Detective', 'Difficult',\n",
              "       'Emotional', 'Exploration', 'FPS', 'Farming Sim', 'Flight', 'Funny',\n",
              "       'Great Soundtrack', 'Hentai', 'Hero Shooter', 'Hidden Object', 'Horror',\n",
              "       'JRPG', 'LEGO', 'LGBTQ+', 'Loot', 'Management', 'Medieval',\n",
              "       'Metroidvania', 'Minimalist', 'Multiple Endings', 'Music', 'Mystery',\n",
              "       'Narrative', 'Nudity', 'Open World', 'Open World Survival Craft',\n",
              "       'Philosophical', 'Physics', 'Pixel Graphics', 'Platformer', 'Political',\n",
              "       'Precision Platformer', 'Psychedelic', 'Psychological Horror', 'Puzzle',\n",
              "       'Puzzle Platformer', 'RPG', 'Racing', 'Real Time Tactics', 'Relaxing',\n",
              "       'Rhythm', 'Robots', 'Roguelike', 'Roguelike Deckbuilder', 'Roguelite',\n",
              "       'Sandbox', 'Sexual Content', 'Shooter', 'Simulation', 'Singleplayer',\n",
              "       'Souls-like', 'Space', 'Stealth', 'Story Rich', 'Strategy', 'Survival',\n",
              "       'Survival Horror', 'Tactical RPG', 'Third-Person Shooter',\n",
              "       'Tower Defense', 'Transportation', 'Turn-Based Strategy',\n",
              "       'Visual Novel', 'Zombies'],\n",
              "      dtype='object')"
            ]
          },
          "metadata": {},
          "execution_count": 138
        }
      ]
    },
    {
      "cell_type": "markdown",
      "source": [
        "### Analysis & Other steps"
      ],
      "metadata": {
        "id": "expcWq2l7i4b"
      }
    },
    {
      "cell_type": "code",
      "source": [
        "games.iloc[68:76]"
      ],
      "metadata": {
        "colab": {
          "base_uri": "https://localhost:8080/",
          "height": 549
        },
        "id": "pLlPlhs8R5gU",
        "outputId": "439776e7-dae2-4fca-fe26-e3e192cb5cc8"
      },
      "execution_count": null,
      "outputs": [
        {
          "output_type": "execute_result",
          "data": {
            "text/plain": [
              "    game_id                                              title         genre  \\\n",
              "68       69  Divinity: Original Sin 2 - Definitive Edition(...  Tactical RPG   \n",
              "69       70                                     Broforce(2015)       America   \n",
              "70       71                Ori and the Will of the Wisps(2020)     Beautiful   \n",
              "71       72                                Papers Please(2013)     Political   \n",
              "72       73                          Oxygen Not Included(2019)    Colony Sim   \n",
              "73       74                                   Ravenfield(2017)           FPS   \n",
              "74       75                                    Half-Life(1998)           FPS   \n",
              "75       76                                   God of War(2022)        Action   \n",
              "\n",
              "    price  is_free  year  genre_label  2D Fighter  2D Platformer  Action  ...  \\\n",
              "68  44.99    False  2017           86           0              0       0  ...   \n",
              "69  14.99    False  2015            5           0              0       0  ...   \n",
              "70   9.89    False  2020           12           0              0       0  ...   \n",
              "71   9.99    False  2013           59           0              0       0  ...   \n",
              "72  24.99    False  2019           21           0              0       0  ...   \n",
              "73  14.99    False  2017           31           0              0       0  ...   \n",
              "74   9.99    False  1998           31           0              0       0  ...   \n",
              "75  49.99    False  2022            2           0              0       1  ...   \n",
              "\n",
              "    Strategy  Survival  Survival Horror  Tactical RPG  Third-Person Shooter  \\\n",
              "68         0         0                0             1                     0   \n",
              "69         0         0                0             0                     0   \n",
              "70         0         0                0             0                     0   \n",
              "71         0         0                0             0                     0   \n",
              "72         0         0                0             0                     0   \n",
              "73         0         0                0             0                     0   \n",
              "74         0         0                0             0                     0   \n",
              "75         0         0                0             0                     0   \n",
              "\n",
              "    Tower Defense  Transportation  Turn-Based Strategy  Visual Novel  Zombies  \n",
              "68              0               0                    0             0        0  \n",
              "69              0               0                    0             0        0  \n",
              "70              0               0                    0             0        0  \n",
              "71              0               0                    0             0        0  \n",
              "72              0               0                    0             0        0  \n",
              "73              0               0                    0             0        0  \n",
              "74              0               0                    0             0        0  \n",
              "75              0               0                    0             0        0  \n",
              "\n",
              "[8 rows x 100 columns]"
            ],
            "text/html": [
              "\n",
              "  <div id=\"df-2d46dab0-0c28-474e-abfb-9f660f03a8b1\">\n",
              "    <div class=\"colab-df-container\">\n",
              "      <div>\n",
              "<style scoped>\n",
              "    .dataframe tbody tr th:only-of-type {\n",
              "        vertical-align: middle;\n",
              "    }\n",
              "\n",
              "    .dataframe tbody tr th {\n",
              "        vertical-align: top;\n",
              "    }\n",
              "\n",
              "    .dataframe thead th {\n",
              "        text-align: right;\n",
              "    }\n",
              "</style>\n",
              "<table border=\"1\" class=\"dataframe\">\n",
              "  <thead>\n",
              "    <tr style=\"text-align: right;\">\n",
              "      <th></th>\n",
              "      <th>game_id</th>\n",
              "      <th>title</th>\n",
              "      <th>genre</th>\n",
              "      <th>price</th>\n",
              "      <th>is_free</th>\n",
              "      <th>year</th>\n",
              "      <th>genre_label</th>\n",
              "      <th>2D Fighter</th>\n",
              "      <th>2D Platformer</th>\n",
              "      <th>Action</th>\n",
              "      <th>...</th>\n",
              "      <th>Strategy</th>\n",
              "      <th>Survival</th>\n",
              "      <th>Survival Horror</th>\n",
              "      <th>Tactical RPG</th>\n",
              "      <th>Third-Person Shooter</th>\n",
              "      <th>Tower Defense</th>\n",
              "      <th>Transportation</th>\n",
              "      <th>Turn-Based Strategy</th>\n",
              "      <th>Visual Novel</th>\n",
              "      <th>Zombies</th>\n",
              "    </tr>\n",
              "  </thead>\n",
              "  <tbody>\n",
              "    <tr>\n",
              "      <th>68</th>\n",
              "      <td>69</td>\n",
              "      <td>Divinity: Original Sin 2 - Definitive Edition(...</td>\n",
              "      <td>Tactical RPG</td>\n",
              "      <td>44.99</td>\n",
              "      <td>False</td>\n",
              "      <td>2017</td>\n",
              "      <td>86</td>\n",
              "      <td>0</td>\n",
              "      <td>0</td>\n",
              "      <td>0</td>\n",
              "      <td>...</td>\n",
              "      <td>0</td>\n",
              "      <td>0</td>\n",
              "      <td>0</td>\n",
              "      <td>1</td>\n",
              "      <td>0</td>\n",
              "      <td>0</td>\n",
              "      <td>0</td>\n",
              "      <td>0</td>\n",
              "      <td>0</td>\n",
              "      <td>0</td>\n",
              "    </tr>\n",
              "    <tr>\n",
              "      <th>69</th>\n",
              "      <td>70</td>\n",
              "      <td>Broforce(2015)</td>\n",
              "      <td>America</td>\n",
              "      <td>14.99</td>\n",
              "      <td>False</td>\n",
              "      <td>2015</td>\n",
              "      <td>5</td>\n",
              "      <td>0</td>\n",
              "      <td>0</td>\n",
              "      <td>0</td>\n",
              "      <td>...</td>\n",
              "      <td>0</td>\n",
              "      <td>0</td>\n",
              "      <td>0</td>\n",
              "      <td>0</td>\n",
              "      <td>0</td>\n",
              "      <td>0</td>\n",
              "      <td>0</td>\n",
              "      <td>0</td>\n",
              "      <td>0</td>\n",
              "      <td>0</td>\n",
              "    </tr>\n",
              "    <tr>\n",
              "      <th>70</th>\n",
              "      <td>71</td>\n",
              "      <td>Ori and the Will of the Wisps(2020)</td>\n",
              "      <td>Beautiful</td>\n",
              "      <td>9.89</td>\n",
              "      <td>False</td>\n",
              "      <td>2020</td>\n",
              "      <td>12</td>\n",
              "      <td>0</td>\n",
              "      <td>0</td>\n",
              "      <td>0</td>\n",
              "      <td>...</td>\n",
              "      <td>0</td>\n",
              "      <td>0</td>\n",
              "      <td>0</td>\n",
              "      <td>0</td>\n",
              "      <td>0</td>\n",
              "      <td>0</td>\n",
              "      <td>0</td>\n",
              "      <td>0</td>\n",
              "      <td>0</td>\n",
              "      <td>0</td>\n",
              "    </tr>\n",
              "    <tr>\n",
              "      <th>71</th>\n",
              "      <td>72</td>\n",
              "      <td>Papers Please(2013)</td>\n",
              "      <td>Political</td>\n",
              "      <td>9.99</td>\n",
              "      <td>False</td>\n",
              "      <td>2013</td>\n",
              "      <td>59</td>\n",
              "      <td>0</td>\n",
              "      <td>0</td>\n",
              "      <td>0</td>\n",
              "      <td>...</td>\n",
              "      <td>0</td>\n",
              "      <td>0</td>\n",
              "      <td>0</td>\n",
              "      <td>0</td>\n",
              "      <td>0</td>\n",
              "      <td>0</td>\n",
              "      <td>0</td>\n",
              "      <td>0</td>\n",
              "      <td>0</td>\n",
              "      <td>0</td>\n",
              "    </tr>\n",
              "    <tr>\n",
              "      <th>72</th>\n",
              "      <td>73</td>\n",
              "      <td>Oxygen Not Included(2019)</td>\n",
              "      <td>Colony Sim</td>\n",
              "      <td>24.99</td>\n",
              "      <td>False</td>\n",
              "      <td>2019</td>\n",
              "      <td>21</td>\n",
              "      <td>0</td>\n",
              "      <td>0</td>\n",
              "      <td>0</td>\n",
              "      <td>...</td>\n",
              "      <td>0</td>\n",
              "      <td>0</td>\n",
              "      <td>0</td>\n",
              "      <td>0</td>\n",
              "      <td>0</td>\n",
              "      <td>0</td>\n",
              "      <td>0</td>\n",
              "      <td>0</td>\n",
              "      <td>0</td>\n",
              "      <td>0</td>\n",
              "    </tr>\n",
              "    <tr>\n",
              "      <th>73</th>\n",
              "      <td>74</td>\n",
              "      <td>Ravenfield(2017)</td>\n",
              "      <td>FPS</td>\n",
              "      <td>14.99</td>\n",
              "      <td>False</td>\n",
              "      <td>2017</td>\n",
              "      <td>31</td>\n",
              "      <td>0</td>\n",
              "      <td>0</td>\n",
              "      <td>0</td>\n",
              "      <td>...</td>\n",
              "      <td>0</td>\n",
              "      <td>0</td>\n",
              "      <td>0</td>\n",
              "      <td>0</td>\n",
              "      <td>0</td>\n",
              "      <td>0</td>\n",
              "      <td>0</td>\n",
              "      <td>0</td>\n",
              "      <td>0</td>\n",
              "      <td>0</td>\n",
              "    </tr>\n",
              "    <tr>\n",
              "      <th>74</th>\n",
              "      <td>75</td>\n",
              "      <td>Half-Life(1998)</td>\n",
              "      <td>FPS</td>\n",
              "      <td>9.99</td>\n",
              "      <td>False</td>\n",
              "      <td>1998</td>\n",
              "      <td>31</td>\n",
              "      <td>0</td>\n",
              "      <td>0</td>\n",
              "      <td>0</td>\n",
              "      <td>...</td>\n",
              "      <td>0</td>\n",
              "      <td>0</td>\n",
              "      <td>0</td>\n",
              "      <td>0</td>\n",
              "      <td>0</td>\n",
              "      <td>0</td>\n",
              "      <td>0</td>\n",
              "      <td>0</td>\n",
              "      <td>0</td>\n",
              "      <td>0</td>\n",
              "    </tr>\n",
              "    <tr>\n",
              "      <th>75</th>\n",
              "      <td>76</td>\n",
              "      <td>God of War(2022)</td>\n",
              "      <td>Action</td>\n",
              "      <td>49.99</td>\n",
              "      <td>False</td>\n",
              "      <td>2022</td>\n",
              "      <td>2</td>\n",
              "      <td>0</td>\n",
              "      <td>0</td>\n",
              "      <td>1</td>\n",
              "      <td>...</td>\n",
              "      <td>0</td>\n",
              "      <td>0</td>\n",
              "      <td>0</td>\n",
              "      <td>0</td>\n",
              "      <td>0</td>\n",
              "      <td>0</td>\n",
              "      <td>0</td>\n",
              "      <td>0</td>\n",
              "      <td>0</td>\n",
              "      <td>0</td>\n",
              "    </tr>\n",
              "  </tbody>\n",
              "</table>\n",
              "<p>8 rows × 100 columns</p>\n",
              "</div>\n",
              "      <button class=\"colab-df-convert\" onclick=\"convertToInteractive('df-2d46dab0-0c28-474e-abfb-9f660f03a8b1')\"\n",
              "              title=\"Convert this dataframe to an interactive table.\"\n",
              "              style=\"display:none;\">\n",
              "        \n",
              "  <svg xmlns=\"http://www.w3.org/2000/svg\" height=\"24px\"viewBox=\"0 0 24 24\"\n",
              "       width=\"24px\">\n",
              "    <path d=\"M0 0h24v24H0V0z\" fill=\"none\"/>\n",
              "    <path d=\"M18.56 5.44l.94 2.06.94-2.06 2.06-.94-2.06-.94-.94-2.06-.94 2.06-2.06.94zm-11 1L8.5 8.5l.94-2.06 2.06-.94-2.06-.94L8.5 2.5l-.94 2.06-2.06.94zm10 10l.94 2.06.94-2.06 2.06-.94-2.06-.94-.94-2.06-.94 2.06-2.06.94z\"/><path d=\"M17.41 7.96l-1.37-1.37c-.4-.4-.92-.59-1.43-.59-.52 0-1.04.2-1.43.59L10.3 9.45l-7.72 7.72c-.78.78-.78 2.05 0 2.83L4 21.41c.39.39.9.59 1.41.59.51 0 1.02-.2 1.41-.59l7.78-7.78 2.81-2.81c.8-.78.8-2.07 0-2.86zM5.41 20L4 18.59l7.72-7.72 1.47 1.35L5.41 20z\"/>\n",
              "  </svg>\n",
              "      </button>\n",
              "      \n",
              "  <style>\n",
              "    .colab-df-container {\n",
              "      display:flex;\n",
              "      flex-wrap:wrap;\n",
              "      gap: 12px;\n",
              "    }\n",
              "\n",
              "    .colab-df-convert {\n",
              "      background-color: #E8F0FE;\n",
              "      border: none;\n",
              "      border-radius: 50%;\n",
              "      cursor: pointer;\n",
              "      display: none;\n",
              "      fill: #1967D2;\n",
              "      height: 32px;\n",
              "      padding: 0 0 0 0;\n",
              "      width: 32px;\n",
              "    }\n",
              "\n",
              "    .colab-df-convert:hover {\n",
              "      background-color: #E2EBFA;\n",
              "      box-shadow: 0px 1px 2px rgba(60, 64, 67, 0.3), 0px 1px 3px 1px rgba(60, 64, 67, 0.15);\n",
              "      fill: #174EA6;\n",
              "    }\n",
              "\n",
              "    [theme=dark] .colab-df-convert {\n",
              "      background-color: #3B4455;\n",
              "      fill: #D2E3FC;\n",
              "    }\n",
              "\n",
              "    [theme=dark] .colab-df-convert:hover {\n",
              "      background-color: #434B5C;\n",
              "      box-shadow: 0px 1px 3px 1px rgba(0, 0, 0, 0.15);\n",
              "      filter: drop-shadow(0px 1px 2px rgba(0, 0, 0, 0.3));\n",
              "      fill: #FFFFFF;\n",
              "    }\n",
              "  </style>\n",
              "\n",
              "      <script>\n",
              "        const buttonEl =\n",
              "          document.querySelector('#df-2d46dab0-0c28-474e-abfb-9f660f03a8b1 button.colab-df-convert');\n",
              "        buttonEl.style.display =\n",
              "          google.colab.kernel.accessAllowed ? 'block' : 'none';\n",
              "\n",
              "        async function convertToInteractive(key) {\n",
              "          const element = document.querySelector('#df-2d46dab0-0c28-474e-abfb-9f660f03a8b1');\n",
              "          const dataTable =\n",
              "            await google.colab.kernel.invokeFunction('convertToInteractive',\n",
              "                                                     [key], {});\n",
              "          if (!dataTable) return;\n",
              "\n",
              "          const docLinkHtml = 'Like what you see? Visit the ' +\n",
              "            '<a target=\"_blank\" href=https://colab.research.google.com/notebooks/data_table.ipynb>data table notebook</a>'\n",
              "            + ' to learn more about interactive tables.';\n",
              "          element.innerHTML = '';\n",
              "          dataTable['output_type'] = 'display_data';\n",
              "          await google.colab.output.renderOutput(dataTable, element);\n",
              "          const docLink = document.createElement('div');\n",
              "          docLink.innerHTML = docLinkHtml;\n",
              "          element.appendChild(docLink);\n",
              "        }\n",
              "      </script>\n",
              "    </div>\n",
              "  </div>\n",
              "  "
            ]
          },
          "metadata": {},
          "execution_count": 139
        }
      ]
    },
    {
      "cell_type": "code",
      "source": [
        "games['game_id'] = games['game_id'].astype('int64')"
      ],
      "metadata": {
        "id": "bDm9tYMMRm55"
      },
      "execution_count": null,
      "outputs": []
    },
    {
      "cell_type": "code",
      "source": [
        "# show users who rated unknown games\n",
        "users['game_id_exists'] = users['game_id'].isin(games['game_id'])\n",
        "\n",
        "wrong_users = users[users['game_id_exists'] == False]\n",
        "wrong_users"
      ],
      "metadata": {
        "colab": {
          "base_uri": "https://localhost:8080/",
          "height": 49
        },
        "id": "uUPO3uE6HEoY",
        "outputId": "6a433ac8-bbdd-4d25-dcf9-4605cf321d37"
      },
      "execution_count": null,
      "outputs": [
        {
          "output_type": "execute_result",
          "data": {
            "text/plain": [
              "Empty DataFrame\n",
              "Columns: [user_id, game_id, rating, game_id_exists]\n",
              "Index: []"
            ],
            "text/html": [
              "\n",
              "  <div id=\"df-6b5415f2-1d18-4847-b8a7-0788a4ab1cd1\">\n",
              "    <div class=\"colab-df-container\">\n",
              "      <div>\n",
              "<style scoped>\n",
              "    .dataframe tbody tr th:only-of-type {\n",
              "        vertical-align: middle;\n",
              "    }\n",
              "\n",
              "    .dataframe tbody tr th {\n",
              "        vertical-align: top;\n",
              "    }\n",
              "\n",
              "    .dataframe thead th {\n",
              "        text-align: right;\n",
              "    }\n",
              "</style>\n",
              "<table border=\"1\" class=\"dataframe\">\n",
              "  <thead>\n",
              "    <tr style=\"text-align: right;\">\n",
              "      <th></th>\n",
              "      <th>user_id</th>\n",
              "      <th>game_id</th>\n",
              "      <th>rating</th>\n",
              "      <th>game_id_exists</th>\n",
              "    </tr>\n",
              "  </thead>\n",
              "  <tbody>\n",
              "  </tbody>\n",
              "</table>\n",
              "</div>\n",
              "      <button class=\"colab-df-convert\" onclick=\"convertToInteractive('df-6b5415f2-1d18-4847-b8a7-0788a4ab1cd1')\"\n",
              "              title=\"Convert this dataframe to an interactive table.\"\n",
              "              style=\"display:none;\">\n",
              "        \n",
              "  <svg xmlns=\"http://www.w3.org/2000/svg\" height=\"24px\"viewBox=\"0 0 24 24\"\n",
              "       width=\"24px\">\n",
              "    <path d=\"M0 0h24v24H0V0z\" fill=\"none\"/>\n",
              "    <path d=\"M18.56 5.44l.94 2.06.94-2.06 2.06-.94-2.06-.94-.94-2.06-.94 2.06-2.06.94zm-11 1L8.5 8.5l.94-2.06 2.06-.94-2.06-.94L8.5 2.5l-.94 2.06-2.06.94zm10 10l.94 2.06.94-2.06 2.06-.94-2.06-.94-.94-2.06-.94 2.06-2.06.94z\"/><path d=\"M17.41 7.96l-1.37-1.37c-.4-.4-.92-.59-1.43-.59-.52 0-1.04.2-1.43.59L10.3 9.45l-7.72 7.72c-.78.78-.78 2.05 0 2.83L4 21.41c.39.39.9.59 1.41.59.51 0 1.02-.2 1.41-.59l7.78-7.78 2.81-2.81c.8-.78.8-2.07 0-2.86zM5.41 20L4 18.59l7.72-7.72 1.47 1.35L5.41 20z\"/>\n",
              "  </svg>\n",
              "      </button>\n",
              "      \n",
              "  <style>\n",
              "    .colab-df-container {\n",
              "      display:flex;\n",
              "      flex-wrap:wrap;\n",
              "      gap: 12px;\n",
              "    }\n",
              "\n",
              "    .colab-df-convert {\n",
              "      background-color: #E8F0FE;\n",
              "      border: none;\n",
              "      border-radius: 50%;\n",
              "      cursor: pointer;\n",
              "      display: none;\n",
              "      fill: #1967D2;\n",
              "      height: 32px;\n",
              "      padding: 0 0 0 0;\n",
              "      width: 32px;\n",
              "    }\n",
              "\n",
              "    .colab-df-convert:hover {\n",
              "      background-color: #E2EBFA;\n",
              "      box-shadow: 0px 1px 2px rgba(60, 64, 67, 0.3), 0px 1px 3px 1px rgba(60, 64, 67, 0.15);\n",
              "      fill: #174EA6;\n",
              "    }\n",
              "\n",
              "    [theme=dark] .colab-df-convert {\n",
              "      background-color: #3B4455;\n",
              "      fill: #D2E3FC;\n",
              "    }\n",
              "\n",
              "    [theme=dark] .colab-df-convert:hover {\n",
              "      background-color: #434B5C;\n",
              "      box-shadow: 0px 1px 3px 1px rgba(0, 0, 0, 0.15);\n",
              "      filter: drop-shadow(0px 1px 2px rgba(0, 0, 0, 0.3));\n",
              "      fill: #FFFFFF;\n",
              "    }\n",
              "  </style>\n",
              "\n",
              "      <script>\n",
              "        const buttonEl =\n",
              "          document.querySelector('#df-6b5415f2-1d18-4847-b8a7-0788a4ab1cd1 button.colab-df-convert');\n",
              "        buttonEl.style.display =\n",
              "          google.colab.kernel.accessAllowed ? 'block' : 'none';\n",
              "\n",
              "        async function convertToInteractive(key) {\n",
              "          const element = document.querySelector('#df-6b5415f2-1d18-4847-b8a7-0788a4ab1cd1');\n",
              "          const dataTable =\n",
              "            await google.colab.kernel.invokeFunction('convertToInteractive',\n",
              "                                                     [key], {});\n",
              "          if (!dataTable) return;\n",
              "\n",
              "          const docLinkHtml = 'Like what you see? Visit the ' +\n",
              "            '<a target=\"_blank\" href=https://colab.research.google.com/notebooks/data_table.ipynb>data table notebook</a>'\n",
              "            + ' to learn more about interactive tables.';\n",
              "          element.innerHTML = '';\n",
              "          dataTable['output_type'] = 'display_data';\n",
              "          await google.colab.output.renderOutput(dataTable, element);\n",
              "          const docLink = document.createElement('div');\n",
              "          docLink.innerHTML = docLinkHtml;\n",
              "          element.appendChild(docLink);\n",
              "        }\n",
              "      </script>\n",
              "    </div>\n",
              "  </div>\n",
              "  "
            ]
          },
          "metadata": {},
          "execution_count": 141
        }
      ]
    },
    {
      "cell_type": "code",
      "source": [
        "# leave the entries with existent games only\n",
        "init_users_len = len(users)\n",
        "wrong_users_len = len(wrong_users)\n",
        "users = users.loc[users['game_id_exists']]\n",
        "\n",
        "# check if all the game_id in users.csv are present in games.csv\n",
        "#assert len(users) == init_users_len - wrong_users_len, \"Wrong users drop failed.\"\n",
        "\n",
        "assert all(users['game_id_exists']), \"users.csv contains invalid game id.\"\n",
        "#assert (users.game_id in games.game_id).all(), \"users.csv contains invalid game id\"\n",
        "#assert all([user_game_id in games.game_id for user_game_id in users.game_id]), \"users.csv contains invalid game id\""
      ],
      "metadata": {
        "id": "5oYm-IhFQoQm"
      },
      "execution_count": null,
      "outputs": []
    },
    {
      "cell_type": "code",
      "source": [
        "len(games.columns)"
      ],
      "metadata": {
        "colab": {
          "base_uri": "https://localhost:8080/"
        },
        "id": "ZiDsjhjqAGoW",
        "outputId": "2dcdcb6b-a2c6-460f-bcef-8dcd027029b9"
      },
      "execution_count": null,
      "outputs": [
        {
          "output_type": "execute_result",
          "data": {
            "text/plain": [
              "100"
            ]
          },
          "metadata": {},
          "execution_count": 143
        }
      ]
    },
    {
      "cell_type": "markdown",
      "source": [
        "Check the categorical features distrivution:"
      ],
      "metadata": {
        "id": "n7Q6cbKi--Nd"
      }
    },
    {
      "cell_type": "code",
      "source": [
        "for games_cat_col in games_cat_cols:\n",
        "    print(f\"{games_cat_col} DISTRIBUTION\")\n",
        "    print(games[games_cat_col].value_counts())\n",
        "    print()"
      ],
      "metadata": {
        "colab": {
          "base_uri": "https://localhost:8080/"
        },
        "id": "EzKRYfgC_BZL",
        "outputId": "93c1e95a-1406-47f1-8352-d35062046faa"
      },
      "execution_count": null,
      "outputs": [
        {
          "output_type": "stream",
          "name": "stdout",
          "text": [
            "genre DISTRIBUTION\n",
            "FPS                  15\n",
            "Action               12\n",
            "Puzzle               10\n",
            "Visual Novel          9\n",
            "Adventure             8\n",
            "                     ..\n",
            "LGBTQ+                1\n",
            "Survival Horror       1\n",
            "Roguelike             1\n",
            "City Builder          1\n",
            "Puzzle Platformer     1\n",
            "Name: genre, Length: 93, dtype: int64\n",
            "\n",
            "is_free DISTRIBUTION\n",
            "False    224\n",
            "True      26\n",
            "Name: is_free, dtype: int64\n",
            "\n"
          ]
        }
      ]
    },
    {
      "cell_type": "markdown",
      "source": [
        "Check the features distribution:"
      ],
      "metadata": {
        "id": "o0SUV0WX_iZA"
      }
    },
    {
      "cell_type": "code",
      "source": [
        "users.rating.hist(bins=10, range=(0,10), figsize=(8, 6))\n",
        "None"
      ],
      "metadata": {
        "colab": {
          "base_uri": "https://localhost:8080/",
          "height": 374
        },
        "id": "7OL8YkEv_kpc",
        "outputId": "620a7c0e-5418-41ed-81b6-067da1218332"
      },
      "execution_count": null,
      "outputs": [
        {
          "output_type": "display_data",
          "data": {
            "text/plain": [
              "<Figure size 576x432 with 1 Axes>"
            ],
            "image/png": "[encoded data removed]"
          },
          "metadata": {
            "needs_background": "light"
          }
        }
      ]
    },
    {
      "cell_type": "code",
      "source": [
        "games.price.hist(bins=10, figsize=(8, 6))\n",
        "None"
      ],
      "metadata": {
        "colab": {
          "base_uri": "https://localhost:8080/",
          "height": 374
        },
        "id": "4Alb_fV_B3VI",
        "outputId": "b7a7c706-a019-4cfc-afb0-d122ca84f03c"
      },
      "execution_count": null,
      "outputs": [
        {
          "output_type": "display_data",
          "data": {
            "text/plain": [
              "<Figure size 576x432 with 1 Axes>"
            ],
            "image/png": "[encoded data removed]"
          },
          "metadata": {
            "needs_background": "light"
          }
        }
      ]
    },
    {
      "cell_type": "markdown",
      "source": [
        "# SVD Model (scikit-surprise)"
      ],
      "metadata": {
        "id": "U975RU65FVVK"
      }
    },
    {
      "cell_type": "markdown",
      "source": [
        "## Data Preparation"
      ],
      "metadata": {
        "id": "mbgFUWkY7peC"
      }
    },
    {
      "cell_type": "code",
      "source": [
        "users.columns"
      ],
      "metadata": {
        "colab": {
          "base_uri": "https://localhost:8080/"
        },
        "id": "mEyJEV6j7reX",
        "outputId": "87d0e315-bc64-469c-d881-a9cddcb728ae"
      },
      "execution_count": null,
      "outputs": [
        {
          "output_type": "execute_result",
          "data": {
            "text/plain": [
              "Index(['user_id', 'game_id', 'rating', 'game_id_exists'], dtype='object')"
            ]
          },
          "metadata": {},
          "execution_count": 147
        }
      ]
    },
    {
      "cell_type": "code",
      "source": [
        "users_surprise_cols = ['user_id', 'game_id', 'rating']"
      ],
      "metadata": {
        "id": "cPojRAF672ea"
      },
      "execution_count": null,
      "outputs": []
    },
    {
      "cell_type": "markdown",
      "source": [
        "## Configuring the Model"
      ],
      "metadata": {
        "id": "drYbVy6x79oS"
      }
    },
    {
      "cell_type": "markdown",
      "source": [
        "Install the scikit-surprise package:"
      ],
      "metadata": {
        "id": "IY8_t_tr8rxE"
      }
    },
    {
      "cell_type": "code",
      "source": [
        "!pip install scikit-surprise"
      ],
      "metadata": {
        "colab": {
          "base_uri": "https://localhost:8080/"
        },
        "id": "NNaPCZB345-K",
        "outputId": "f7e25312-4e2a-4aad-a4c7-26aa76776a9b"
      },
      "execution_count": null,
      "outputs": [
        {
          "output_type": "stream",
          "name": "stdout",
          "text": [
            "Requirement already satisfied: scikit-surprise in /usr/local/lib/python3.7/dist-packages (1.1.1)\n",
            "Requirement already satisfied: numpy>=1.11.2 in /usr/local/lib/python3.7/dist-packages (from scikit-surprise) (1.21.5)\n",
            "Requirement already satisfied: six>=1.10.0 in /usr/local/lib/python3.7/dist-packages (from scikit-surprise) (1.15.0)\n",
            "Requirement already satisfied: scipy>=1.0.0 in /usr/local/lib/python3.7/dist-packages (from scikit-surprise) (1.4.1)\n",
            "Requirement already satisfied: joblib>=0.11 in /usr/local/lib/python3.7/dist-packages (from scikit-surprise) (1.1.0)\n"
          ]
        }
      ]
    },
    {
      "cell_type": "markdown",
      "source": [
        "Load the dataset into surprise's Dataset object:"
      ],
      "metadata": {
        "id": "KdNW1UU18uqr"
      }
    },
    {
      "cell_type": "code",
      "source": [
        "from surprise import Dataset\n",
        "from surprise import Reader\n",
        "from surprise.model_selection import cross_validate\n",
        "\n",
        "reader = Reader(rating_scale=(1, 10))\n",
        "\n",
        "# The columns must correspond to user id, item id and ratings (in that order)\n",
        "ratings_data = Dataset.load_from_df(users[users_surprise_cols], reader)"
      ],
      "metadata": {
        "id": "y0ndeCPt5VIk"
      },
      "execution_count": null,
      "outputs": []
    },
    {
      "cell_type": "code",
      "source": [
        "users.head()"
      ],
      "metadata": {
        "colab": {
          "base_uri": "https://localhost:8080/",
          "height": 206
        },
        "id": "iQ_OEROZDc2I",
        "outputId": "11be6f66-9fb2-4f41-a6b0-bf11f27eac53"
      },
      "execution_count": null,
      "outputs": [
        {
          "output_type": "execute_result",
          "data": {
            "text/plain": [
              "   user_id  game_id  rating  game_id_exists\n",
              "0        1      147     1.9            True\n",
              "1        1      198     5.0            True\n",
              "2        1      137     9.0            True\n",
              "3        1      197     5.1            True\n",
              "4        2        9     7.4            True"
            ],
            "text/html": [
              "\n",
              "  <div id=\"df-dd0bee81-bdc4-4ee3-a7f5-17c1e2b93902\">\n",
              "    <div class=\"colab-df-container\">\n",
              "      <div>\n",
              "<style scoped>\n",
              "    .dataframe tbody tr th:only-of-type {\n",
              "        vertical-align: middle;\n",
              "    }\n",
              "\n",
              "    .dataframe tbody tr th {\n",
              "        vertical-align: top;\n",
              "    }\n",
              "\n",
              "    .dataframe thead th {\n",
              "        text-align: right;\n",
              "    }\n",
              "</style>\n",
              "<table border=\"1\" class=\"dataframe\">\n",
              "  <thead>\n",
              "    <tr style=\"text-align: right;\">\n",
              "      <th></th>\n",
              "      <th>user_id</th>\n",
              "      <th>game_id</th>\n",
              "      <th>rating</th>\n",
              "      <th>game_id_exists</th>\n",
              "    </tr>\n",
              "  </thead>\n",
              "  <tbody>\n",
              "    <tr>\n",
              "      <th>0</th>\n",
              "      <td>1</td>\n",
              "      <td>147</td>\n",
              "      <td>1.9</td>\n",
              "      <td>True</td>\n",
              "    </tr>\n",
              "    <tr>\n",
              "      <th>1</th>\n",
              "      <td>1</td>\n",
              "      <td>198</td>\n",
              "      <td>5.0</td>\n",
              "      <td>True</td>\n",
              "    </tr>\n",
              "    <tr>\n",
              "      <th>2</th>\n",
              "      <td>1</td>\n",
              "      <td>137</td>\n",
              "      <td>9.0</td>\n",
              "      <td>True</td>\n",
              "    </tr>\n",
              "    <tr>\n",
              "      <th>3</th>\n",
              "      <td>1</td>\n",
              "      <td>197</td>\n",
              "      <td>5.1</td>\n",
              "      <td>True</td>\n",
              "    </tr>\n",
              "    <tr>\n",
              "      <th>4</th>\n",
              "      <td>2</td>\n",
              "      <td>9</td>\n",
              "      <td>7.4</td>\n",
              "      <td>True</td>\n",
              "    </tr>\n",
              "  </tbody>\n",
              "</table>\n",
              "</div>\n",
              "      <button class=\"colab-df-convert\" onclick=\"convertToInteractive('df-dd0bee81-bdc4-4ee3-a7f5-17c1e2b93902')\"\n",
              "              title=\"Convert this dataframe to an interactive table.\"\n",
              "              style=\"display:none;\">\n",
              "        \n",
              "  <svg xmlns=\"http://www.w3.org/2000/svg\" height=\"24px\"viewBox=\"0 0 24 24\"\n",
              "       width=\"24px\">\n",
              "    <path d=\"M0 0h24v24H0V0z\" fill=\"none\"/>\n",
              "    <path d=\"M18.56 5.44l.94 2.06.94-2.06 2.06-.94-2.06-.94-.94-2.06-.94 2.06-2.06.94zm-11 1L8.5 8.5l.94-2.06 2.06-.94-2.06-.94L8.5 2.5l-.94 2.06-2.06.94zm10 10l.94 2.06.94-2.06 2.06-.94-2.06-.94-.94-2.06-.94 2.06-2.06.94z\"/><path d=\"M17.41 7.96l-1.37-1.37c-.4-.4-.92-.59-1.43-.59-.52 0-1.04.2-1.43.59L10.3 9.45l-7.72 7.72c-.78.78-.78 2.05 0 2.83L4 21.41c.39.39.9.59 1.41.59.51 0 1.02-.2 1.41-.59l7.78-7.78 2.81-2.81c.8-.78.8-2.07 0-2.86zM5.41 20L4 18.59l7.72-7.72 1.47 1.35L5.41 20z\"/>\n",
              "  </svg>\n",
              "      </button>\n",
              "      \n",
              "  <style>\n",
              "    .colab-df-container {\n",
              "      display:flex;\n",
              "      flex-wrap:wrap;\n",
              "      gap: 12px;\n",
              "    }\n",
              "\n",
              "    .colab-df-convert {\n",
              "      background-color: #E8F0FE;\n",
              "      border: none;\n",
              "      border-radius: 50%;\n",
              "      cursor: pointer;\n",
              "      display: none;\n",
              "      fill: #1967D2;\n",
              "      height: 32px;\n",
              "      padding: 0 0 0 0;\n",
              "      width: 32px;\n",
              "    }\n",
              "\n",
              "    .colab-df-convert:hover {\n",
              "      background-color: #E2EBFA;\n",
              "      box-shadow: 0px 1px 2px rgba(60, 64, 67, 0.3), 0px 1px 3px 1px rgba(60, 64, 67, 0.15);\n",
              "      fill: #174EA6;\n",
              "    }\n",
              "\n",
              "    [theme=dark] .colab-df-convert {\n",
              "      background-color: #3B4455;\n",
              "      fill: #D2E3FC;\n",
              "    }\n",
              "\n",
              "    [theme=dark] .colab-df-convert:hover {\n",
              "      background-color: #434B5C;\n",
              "      box-shadow: 0px 1px 3px 1px rgba(0, 0, 0, 0.15);\n",
              "      filter: drop-shadow(0px 1px 2px rgba(0, 0, 0, 0.3));\n",
              "      fill: #FFFFFF;\n",
              "    }\n",
              "  </style>\n",
              "\n",
              "      <script>\n",
              "        const buttonEl =\n",
              "          document.querySelector('#df-dd0bee81-bdc4-4ee3-a7f5-17c1e2b93902 button.colab-df-convert');\n",
              "        buttonEl.style.display =\n",
              "          google.colab.kernel.accessAllowed ? 'block' : 'none';\n",
              "\n",
              "        async function convertToInteractive(key) {\n",
              "          const element = document.querySelector('#df-dd0bee81-bdc4-4ee3-a7f5-17c1e2b93902');\n",
              "          const dataTable =\n",
              "            await google.colab.kernel.invokeFunction('convertToInteractive',\n",
              "                                                     [key], {});\n",
              "          if (!dataTable) return;\n",
              "\n",
              "          const docLinkHtml = 'Like what you see? Visit the ' +\n",
              "            '<a target=\"_blank\" href=https://colab.research.google.com/notebooks/data_table.ipynb>data table notebook</a>'\n",
              "            + ' to learn more about interactive tables.';\n",
              "          element.innerHTML = '';\n",
              "          dataTable['output_type'] = 'display_data';\n",
              "          await google.colab.output.renderOutput(dataTable, element);\n",
              "          const docLink = document.createElement('div');\n",
              "          docLink.innerHTML = docLinkHtml;\n",
              "          element.appendChild(docLink);\n",
              "        }\n",
              "      </script>\n",
              "    </div>\n",
              "  </div>\n",
              "  "
            ]
          },
          "metadata": {},
          "execution_count": 151
        }
      ]
    },
    {
      "cell_type": "markdown",
      "source": [
        "Train the algorithm using cross-validation:"
      ],
      "metadata": {
        "id": "rMIMcwga81HW"
      }
    },
    {
      "cell_type": "code",
      "source": [
        "from surprise import SVD\n",
        "\n",
        "alg = SVD()\n",
        "\n",
        "cross_validate(alg, ratings_data, measures=['RMSE', 'MAE'], cv=10, verbose=True)"
      ],
      "metadata": {
        "colab": {
          "base_uri": "https://localhost:8080/"
        },
        "id": "HaSCS15twE5x",
        "outputId": "df11f80e-ec0a-468f-c31a-f062cbdfbe11"
      },
      "execution_count": null,
      "outputs": [
        {
          "output_type": "stream",
          "name": "stdout",
          "text": [
            "Evaluating RMSE, MAE of algorithm SVD on 10 split(s).\n",
            "\n",
            "                  Fold 1  Fold 2  Fold 3  Fold 4  Fold 5  Fold 6  Fold 7  Fold 8  Fold 9  Fold 10 Mean    Std     \n",
            "RMSE (testset)    2.6524  2.6412  3.6608  2.6652  2.7938  2.6831  2.6337  2.6214  2.6008  2.6991  2.7651  0.3029  \n",
            "MAE (testset)     2.2840  2.2678  2.3531  2.3089  2.3663  2.3388  2.2421  2.2432  2.2419  2.2972  2.2943  0.0444  \n",
            "Fit time          0.83    0.70    0.80    0.82    0.69    0.65    0.29    0.29    0.28    0.29    0.56    0.23    \n",
            "Test time         0.01    0.01    0.01    0.01    0.02    0.01    0.00    0.00    0.00    0.00    0.01    0.01    \n"
          ]
        },
        {
          "output_type": "execute_result",
          "data": {
            "text/plain": [
              "{'fit_time': (0.8264017105102539,\n",
              "  0.7005863189697266,\n",
              "  0.8021032810211182,\n",
              "  0.8229007720947266,\n",
              "  0.6862277984619141,\n",
              "  0.6531169414520264,\n",
              "  0.29018688201904297,\n",
              "  0.2857069969177246,\n",
              "  0.2811143398284912,\n",
              "  0.28771448135375977),\n",
              " 'test_mae': array([2.28398563, 2.26775946, 2.35311987, 2.30893352, 2.36626734,\n",
              "        2.33882821, 2.24212743, 2.24316239, 2.24185885, 2.29724156]),\n",
              " 'test_rmse': array([2.65241151, 2.64124339, 3.66083622, 2.66515095, 2.79377437,\n",
              "        2.68306571, 2.63366857, 2.62135317, 2.60077725, 2.69912111]),\n",
              " 'test_time': (0.006560087203979492,\n",
              "  0.006756782531738281,\n",
              "  0.00907588005065918,\n",
              "  0.006439924240112305,\n",
              "  0.022073745727539062,\n",
              "  0.0065233707427978516,\n",
              "  0.0037937164306640625,\n",
              "  0.0037355422973632812,\n",
              "  0.003714323043823242,\n",
              "  0.004014730453491211)}"
            ]
          },
          "metadata": {},
          "execution_count": 155
        }
      ]
    },
    {
      "cell_type": "markdown",
      "source": [
        "# RecSys"
      ],
      "metadata": {
        "id": "GjFF-6vbtLJo"
      }
    },
    {
      "cell_type": "markdown",
      "source": [
        "The script below will show *top-N* recommendations for a given *user_id*:"
      ],
      "metadata": {
        "id": "OWKOuNV8tPG7"
      }
    },
    {
      "cell_type": "code",
      "source": [
        "num_of_recs = 5\n",
        "user_id = 600\n",
        "\n",
        "recs = {}\n",
        "\n",
        "for game_id in games['game_id']:\n",
        "    prediction = alg.predict(user_id, game_id)\n",
        "    recs[game_id] = prediction.est\n",
        "\n",
        "recs_sorted = dict(sorted(recs.items(), key=lambda item: item[1], reverse = True))\n",
        "\n",
        "i = 0\n",
        "print(f'Recommendations for user_id {user_id}:')\n",
        "for rec in recs_sorted.items():\n",
        "    if i == num_of_recs:\n",
        "        break\n",
        "    else:\n",
        "        i += 1\n",
        "\n",
        "    game_id = rec[0]\n",
        "    game_title = games.loc[games['game_id'] == game_id, 'title'].iloc[0]\n",
        "    pred = rec[1]\n",
        "    print(f\"{i}. {game_title}.\")\n",
        "    print(f\"Predicted rating: {pred}\")\n",
        "    print()\n"
      ],
      "metadata": {
        "colab": {
          "base_uri": "https://localhost:8080/"
        },
        "id": "iYmJig8ltSFb",
        "outputId": "8446ab0e-9858-4273-c027-c1c7937c49ec"
      },
      "execution_count": null,
      "outputs": [
        {
          "output_type": "stream",
          "name": "stdout",
          "text": [
            "Recommendations for user_id 600:\n",
            "1. The Room(2014).\n",
            "Predicted rating: 9.057377836745454\n",
            "\n",
            "2. Portal 2(2011).\n",
            "Predicted rating: 7.0674325169705075\n",
            "\n",
            "3. Teardown(2020).\n",
            "Predicted rating: 6.766736358539827\n",
            "\n",
            "4. Fallout: New Vegas(2010).\n",
            "Predicted rating: 6.693285854635773\n",
            "\n",
            "5. Beat Saber(2019).\n",
            "Predicted rating: 6.687812514251482\n",
            "\n"
          ]
        }
      ]
    },
    {
      "cell_type": "markdown",
      "source": [
        "# Results"
      ],
      "metadata": {
        "id": "lJeHoyspt_V1"
      }
    },
    {
      "cell_type": "markdown",
      "source": [
        "#### Performance"
      ],
      "metadata": {
        "id": "8HxH_tsg9iK5"
      }
    },
    {
      "cell_type": "markdown",
      "source": [
        "Root mean squared error on the test set is around 2.7"
      ],
      "metadata": {
        "id": "UL-G2UCN98SO"
      }
    },
    {
      "cell_type": "markdown",
      "source": [
        "Such a large value is obtained due to the so-called *cold start* problem. The dataset contains 1000 users and 250 games, with appeoximately 3-6 games rated by each user. Hence, we obtain a 1000 by 250 rating matrix with only 3-6 cells filled in each row. This matrix is *sparse*. With sparse rating matrix, it is hard to obtain good results using collaborative filtering or SVD (singular value decomposition) algorithms."
      ],
      "metadata": {
        "id": "MiPX8aOC6vtn"
      }
    },
    {
      "cell_type": "markdown",
      "source": [
        "#### What's further?"
      ],
      "metadata": {
        "id": "q6MorUSr95dD"
      }
    },
    {
      "cell_type": "markdown",
      "source": [
        "I definitely want to see how content-based filtering would perform with this dataset. As opposed to collaborative filtering and SVD algorithms, content-based filtering takes into account the item and user features, e.g. the features I was deriving and processing at the beginning of this notebook. \n"
      ],
      "metadata": {
        "id": "x6DjdkVz-BKO"
      }
    }
  ]
}